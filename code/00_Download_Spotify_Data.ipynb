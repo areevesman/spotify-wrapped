{
 "cells": [
  {
   "cell_type": "code",
   "execution_count": 1,
   "metadata": {},
   "outputs": [],
   "source": [
    "import spotipy\n",
    "from spotipy.oauth2 import SpotifyClientCredentials\n",
    "import pandas as pd\n",
    "import time \n",
    "import numpy as np"
   ]
  },
  {
   "cell_type": "markdown",
   "metadata": {},
   "source": [
    "## Download data from Spotify API"
   ]
  },
  {
   "cell_type": "code",
   "execution_count": 2,
   "metadata": {},
   "outputs": [],
   "source": [
    "# read from csv that contains client id and client secret\n",
    "# instead of sharing my personal details in notebook\n",
    "spotify_client_info = pd.read_csv('../data/spotify_client_info.csv')"
   ]
  },
  {
   "cell_type": "code",
   "execution_count": 3,
   "metadata": {},
   "outputs": [],
   "source": [
    "client_id = spotify_client_info.iloc[0,0]\n",
    "client_secret = spotify_client_info.iloc[0,1]\n",
    "\n",
    "client_credentials_manager = SpotifyClientCredentials(client_id, client_secret)\n",
    "sp = spotipy.Spotify(client_credentials_manager=client_credentials_manager)"
   ]
  },
  {
   "cell_type": "code",
   "execution_count": 4,
   "metadata": {},
   "outputs": [],
   "source": [
    "# my spotify username and playlist ids \n",
    "# on playlist page, click on \"...\" -> then on \"Share\" -> then \"Copy Spotify URI\"\n",
    "def getTrackIDs(user, playlist_id):\n",
    "    ids = []\n",
    "    playlist = sp.user_playlist(user, playlist_id)\n",
    "    for item in playlist['tracks']['items']:\n",
    "        track = item['track']\n",
    "        ids.append(track['id'])\n",
    "    return ids"
   ]
  },
  {
   "cell_type": "code",
   "execution_count": 5,
   "metadata": {},
   "outputs": [],
   "source": [
    "# Get spotify singular song data from these locations\n",
    "# https://developer.spotify.com/documentation/web-api/reference/#/operations/get-track\n",
    "# https://developer.spotify.com/documentation/web-api/reference/#/operations/get-audio-features\n",
    "def getTrackFeatures(id):\n",
    "    meta = sp.track(id)\n",
    "    features = sp.audio_features(id)\n",
    "\n",
    "    # meta\n",
    "    name = meta['name']\n",
    "    album = meta['album']['name']\n",
    "    artist = meta['album']['artists'][0]['name']\n",
    "    release_date = meta['album']['release_date']\n",
    "    length = meta['duration_ms']\n",
    "    popularity = meta['popularity']\n",
    "\n",
    "    # features\n",
    "    acousticness = features[0]['acousticness']\n",
    "    danceability = features[0]['danceability']\n",
    "    energy = features[0]['energy']\n",
    "    instrumentalness = features[0]['instrumentalness']\n",
    "    liveness = features[0]['liveness']\n",
    "    loudness = features[0]['loudness']\n",
    "    speechiness = features[0]['speechiness']\n",
    "    tempo = features[0]['tempo']\n",
    "    valence = features[0]['valence']\n",
    "    time_signature = features[0]['time_signature']\n",
    "    key = features[0]['key']\n",
    "    mode = features[0]['mode']\n",
    "    uri = features[0]['uri']\n",
    "\n",
    "    track = [name, album, artist, release_date,\n",
    "             length, popularity, acousticness,\n",
    "             danceability, energy, instrumentalness, \n",
    "             liveness, loudness, speechiness, tempo, \n",
    "             valence, time_signature,\n",
    "             key, mode, uri]\n",
    "    return track"
   ]
  },
  {
   "cell_type": "code",
   "execution_count": 6,
   "metadata": {},
   "outputs": [],
   "source": [
    "# loop over track ids to get all songs in playlist\n",
    "def loop_playist(playlist_ids):\n",
    "    tracks = []\n",
    "    for i in range(len(playlist_ids)):\n",
    "        time.sleep(.2)\n",
    "        track = getTrackFeatures(playlist_ids[i])\n",
    "        tracks.append(track)\n",
    "    return tracks"
   ]
  },
  {
   "cell_type": "code",
   "execution_count": 7,
   "metadata": {},
   "outputs": [],
   "source": [
    "# turn data into dataframe\n",
    "def get_spotify_df(tracks, year):\n",
    "    df = pd.DataFrame(tracks, columns = ['name', 'album', 'artist', 'release_date',\n",
    "                                         'length', 'popularity', 'acousticness', 'danceability',\n",
    "                                         'energy', 'instrumentalness', 'liveness', 'loudness',\n",
    "                                         'speechiness', 'tempo', 'valence', 'time_signature',\n",
    "                                         'key', 'mode', 'uri'])\n",
    "    return df"
   ]
  },
  {
   "cell_type": "markdown",
   "metadata": {},
   "source": [
    "### Add release year"
   ]
  },
  {
   "cell_type": "code",
   "execution_count": 8,
   "metadata": {},
   "outputs": [],
   "source": [
    "def get_years(df):\n",
    "    years = []\n",
    "    for date in df['release_date'].values:\n",
    "        if '-' in date:\n",
    "            years.append(date.split('-')[0])\n",
    "        else:\n",
    "            years.append(date)\n",
    "    df['release_year'] = years\n",
    "    return df"
   ]
  },
  {
   "cell_type": "markdown",
   "metadata": {},
   "source": [
    "### Get data"
   ]
  },
  {
   "cell_type": "code",
   "execution_count": 9,
   "metadata": {},
   "outputs": [],
   "source": [
    "spotify_users_and_playlists = pd.read_csv('../data/spotify_users_and_playlists.csv')"
   ]
  },
  {
   "cell_type": "markdown",
   "metadata": {},
   "source": [
    "### Adam"
   ]
  },
  {
   "cell_type": "code",
   "execution_count": 10,
   "metadata": {},
   "outputs": [],
   "source": [
    "adam_user = spotify_users_and_playlists.iloc[0,0]\n",
    "\n",
    "adam_playlist_2016 = spotify_users_and_playlists.iloc[0,1]\n",
    "adam_playlist_2017 = spotify_users_and_playlists.iloc[1,1]\n",
    "adam_playlist_2018 = spotify_users_and_playlists.iloc[2,1]\n",
    "adam_playlist_2019 = spotify_users_and_playlists.iloc[3,1]\n",
    "adam_playlist_2020 = spotify_users_and_playlists.iloc[4,1]\n",
    "adam_playlist_2021 = spotify_users_and_playlists.iloc[5,1]"
   ]
  },
  {
   "cell_type": "code",
   "execution_count": 11,
   "metadata": {},
   "outputs": [],
   "source": [
    "ids_2016 = getTrackIDs(adam_user, adam_playlist_2016)\n",
    "ids_2017 = getTrackIDs(adam_user, adam_playlist_2017)\n",
    "ids_2018 = getTrackIDs(adam_user, adam_playlist_2018)\n",
    "ids_2019 = getTrackIDs(adam_user, adam_playlist_2019)\n",
    "ids_2020 = getTrackIDs(adam_user, adam_playlist_2020)\n",
    "ids_2021 = getTrackIDs(adam_user, adam_playlist_2021)"
   ]
  },
  {
   "cell_type": "code",
   "execution_count": 12,
   "metadata": {},
   "outputs": [
    {
     "name": "stdout",
     "output_type": "stream",
     "text": [
      "4.632485683759054\n"
     ]
    }
   ],
   "source": [
    "# takes between 4 and 5 minutes on my laptop\n",
    "time_start = time.time()\n",
    "ids_2016_playlist_loop = loop_playist(ids_2016)\n",
    "ids_2017_playlist_loop = loop_playist(ids_2017)\n",
    "ids_2018_playlist_loop = loop_playist(ids_2018)\n",
    "ids_2019_playlist_loop = loop_playist(ids_2019)\n",
    "ids_2020_playlist_loop = loop_playist(ids_2020)\n",
    "ids_2021_playlist_loop = loop_playist(ids_2021)\n",
    "time_end = time.time()\n",
    "print((time_end - time_start)/60)"
   ]
  },
  {
   "cell_type": "code",
   "execution_count": 13,
   "metadata": {},
   "outputs": [],
   "source": [
    "df_2016 = get_spotify_df(ids_2016_playlist_loop, 2016)\n",
    "df_2017 = get_spotify_df(ids_2017_playlist_loop, 2017)\n",
    "df_2018 = get_spotify_df(ids_2018_playlist_loop, 2018)\n",
    "df_2019 = get_spotify_df(ids_2019_playlist_loop, 2019)\n",
    "df_2020 = get_spotify_df(ids_2020_playlist_loop, 2020)\n",
    "df_2021 = get_spotify_df(ids_2021_playlist_loop, 2021)"
   ]
  },
  {
   "cell_type": "code",
   "execution_count": 14,
   "metadata": {},
   "outputs": [],
   "source": [
    "df_2016 = get_years(df_2016)\n",
    "df_2017 = get_years(df_2017)\n",
    "df_2018 = get_years(df_2018)\n",
    "df_2019 = get_years(df_2019)\n",
    "df_2020 = get_years(df_2020)\n",
    "df_2021 = get_years(df_2021)"
   ]
  },
  {
   "cell_type": "code",
   "execution_count": 15,
   "metadata": {},
   "outputs": [],
   "source": [
    "# save dataframes\n",
    "dfs = [df_2016,df_2017,df_2018,df_2019,df_2020,df_2021]\n",
    "names = ['Adam_2016', 'Adam_2017', 'Adam_2018', 'Adam_2019', 'Adam_2020', 'Adam_2021']\n",
    "for df, name in zip(dfs, names):\n",
    "    df.to_csv(f'../data/{name}_Top_Songs.csv', index=False)"
   ]
  },
  {
   "cell_type": "code",
   "execution_count": 16,
   "metadata": {},
   "outputs": [],
   "source": [
    "df_2016 = pd.read_csv(f'../data/Adam_2016_Top_Songs.csv')\n",
    "df_2016 = pd.read_csv(f'../data/Adam_2017_Top_Songs.csv')\n",
    "df_2018 = pd.read_csv(f'../data/Adam_2018_Top_Songs.csv')\n",
    "df_2019 = pd.read_csv(f'../data/Adam_2019_Top_Songs.csv')\n",
    "df_2020 = pd.read_csv(f'../data/Adam_2020_Top_Songs.csv')\n",
    "df_2021 = pd.read_csv(f'../data/Adam_2021_Top_Songs.csv')"
   ]
  },
  {
   "cell_type": "code",
   "execution_count": 17,
   "metadata": {},
   "outputs": [],
   "source": [
    "# df_2021"
   ]
  },
  {
   "cell_type": "markdown",
   "metadata": {},
   "source": [
    "### Brenda"
   ]
  },
  {
   "cell_type": "code",
   "execution_count": 18,
   "metadata": {},
   "outputs": [],
   "source": [
    "brenda_user = spotify_users_and_playlists.iloc[6,0]\n",
    "\n",
    "brenda_playlist_2016 = spotify_users_and_playlists.iloc[6,1]\n",
    "brenda_playlist_2017 = spotify_users_and_playlists.iloc[7,1]\n",
    "brenda_playlist_2018 = spotify_users_and_playlists.iloc[8,1]\n",
    "brenda_playlist_2019 = spotify_users_and_playlists.iloc[9,1]\n",
    "brenda_playlist_2020 = spotify_users_and_playlists.iloc[10,1]\n",
    "brenda_playlist_2021 = spotify_users_and_playlists.iloc[11,1]"
   ]
  },
  {
   "cell_type": "code",
   "execution_count": 19,
   "metadata": {},
   "outputs": [],
   "source": [
    "brenda_ids_2016 = getTrackIDs(brenda_user, brenda_playlist_2016)\n",
    "brenda_ids_2017 = getTrackIDs(brenda_user, brenda_playlist_2017)\n",
    "brenda_ids_2018 = getTrackIDs(brenda_user, brenda_playlist_2018)\n",
    "brenda_ids_2019 = getTrackIDs(brenda_user, brenda_playlist_2019)\n",
    "brenda_ids_2020 = getTrackIDs(brenda_user, brenda_playlist_2020)\n",
    "brenda_ids_2021 = getTrackIDs(brenda_user, brenda_playlist_2021)"
   ]
  },
  {
   "cell_type": "code",
   "execution_count": 20,
   "metadata": {},
   "outputs": [
    {
     "name": "stdout",
     "output_type": "stream",
     "text": [
      "4.60126409928004\n"
     ]
    }
   ],
   "source": [
    "# takes between 4 and 5 minutes on my laptop\n",
    "time_start = time.time()\n",
    "brenda_ids_2016_playlist_loop = loop_playist(brenda_ids_2016)\n",
    "brenda_ids_2017_playlist_loop = loop_playist(brenda_ids_2017)\n",
    "brenda_ids_2018_playlist_loop = loop_playist(brenda_ids_2018)\n",
    "brenda_ids_2019_playlist_loop = loop_playist(brenda_ids_2019)\n",
    "brenda_ids_2020_playlist_loop = loop_playist(brenda_ids_2020)\n",
    "brenda_ids_2021_playlist_loop = loop_playist(brenda_ids_2021)\n",
    "time_end = time.time()\n",
    "print((time_end - time_start)/60)"
   ]
  },
  {
   "cell_type": "code",
   "execution_count": 21,
   "metadata": {},
   "outputs": [],
   "source": [
    "brenda_df_2016 = get_spotify_df(brenda_ids_2016_playlist_loop, 2016)\n",
    "brenda_df_2017 = get_spotify_df(brenda_ids_2017_playlist_loop, 2017)\n",
    "brenda_df_2018 = get_spotify_df(brenda_ids_2018_playlist_loop, 2018)\n",
    "brenda_df_2019 = get_spotify_df(brenda_ids_2019_playlist_loop, 2019)\n",
    "brenda_df_2020 = get_spotify_df(brenda_ids_2020_playlist_loop, 2020)\n",
    "brenda_df_2021 = get_spotify_df(brenda_ids_2021_playlist_loop, 2021)"
   ]
  },
  {
   "cell_type": "code",
   "execution_count": 22,
   "metadata": {},
   "outputs": [],
   "source": [
    "brenda_df_2016 = get_spotify_df(brenda_ids_2016_playlist_loop, 2016)\n",
    "brenda_df_2017 = get_spotify_df(brenda_ids_2017_playlist_loop, 2017)\n",
    "brenda_df_2018 = get_spotify_df(brenda_ids_2018_playlist_loop, 2018)\n",
    "brenda_df_2019 = get_spotify_df(brenda_ids_2019_playlist_loop, 2019)\n",
    "brenda_df_2020 = get_spotify_df(brenda_ids_2020_playlist_loop, 2020)\n",
    "brenda_df_2021 = get_spotify_df(brenda_ids_2021_playlist_loop, 2021)"
   ]
  },
  {
   "cell_type": "code",
   "execution_count": 23,
   "metadata": {},
   "outputs": [],
   "source": [
    "brenda_df_2016 = get_years(brenda_df_2016)\n",
    "brenda_df_2017 = get_years(brenda_df_2017)\n",
    "brenda_df_2018 = get_years(brenda_df_2018)\n",
    "brenda_df_2019 = get_years(brenda_df_2019)\n",
    "brenda_df_2020 = get_years(brenda_df_2020)\n",
    "brenda_df_2021 = get_years(brenda_df_2021)"
   ]
  },
  {
   "cell_type": "code",
   "execution_count": 24,
   "metadata": {},
   "outputs": [],
   "source": [
    "# save dataframes\n",
    "dfs = [brenda_df_2016, brenda_df_2017, brenda_df_2018, brenda_df_2019, brenda_df_2020, brenda_df_2021]\n",
    "names = ['Brenda_2016', 'Brenda_2017', 'Brenda_2018', 'Brenda_2019', 'Brenda_2020', 'Brenda_2021']\n",
    "for df, name in zip(dfs, names):\n",
    "    df.to_csv(f'../data/{name}_Top_Songs.csv', index=False)"
   ]
  },
  {
   "cell_type": "code",
   "execution_count": 25,
   "metadata": {},
   "outputs": [],
   "source": [
    "brenda_df_2016 = pd.read_csv(f'../data/Brenda_2016_Top_Songs.csv')\n",
    "brenda_df_2017 = pd.read_csv(f'../data/Brenda_2017_Top_Songs.csv')\n",
    "brenda_df_2018 = pd.read_csv(f'../data/Brenda_2018_Top_Songs.csv')\n",
    "brenda_df_2019 = pd.read_csv(f'../data/Brenda_2019_Top_Songs.csv')\n",
    "brenda_df_2020 = pd.read_csv(f'../data/Brenda_2020_Top_Songs.csv')\n",
    "brenda_df_2021 = pd.read_csv(f'../data/Brenda_2021_Top_Songs.csv')"
   ]
  },
  {
   "cell_type": "code",
   "execution_count": 26,
   "metadata": {
    "scrolled": false
   },
   "outputs": [],
   "source": [
    "# brenda_df_2021"
   ]
  },
  {
   "cell_type": "code",
   "execution_count": null,
   "metadata": {},
   "outputs": [],
   "source": []
  }
 ],
 "metadata": {
  "kernelspec": {
   "display_name": "Python 3",
   "language": "python",
   "name": "python3"
  },
  "language_info": {
   "codemirror_mode": {
    "name": "ipython",
    "version": 3
   },
   "file_extension": ".py",
   "mimetype": "text/x-python",
   "name": "python",
   "nbconvert_exporter": "python",
   "pygments_lexer": "ipython3",
   "version": "3.6.8"
  }
 },
 "nbformat": 4,
 "nbformat_minor": 2
}
