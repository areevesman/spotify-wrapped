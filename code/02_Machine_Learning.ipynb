{
 "cells": [
  {
   "cell_type": "code",
   "execution_count": 9,
   "metadata": {},
   "outputs": [],
   "source": [
    "import pandas as pd\n",
    "import numpy as np\n",
    "import matplotlib.pyplot as plt\n",
    "\n",
    "from sklearn.metrics import confusion_matrix, roc_curve, roc_auc_score, precision_recall_curve, auc, average_precision_score\n",
    "from sklearn.model_selection import GridSearchCV, RepeatedStratifiedKFold\n",
    "from sklearn.preprocessing import OneHotEncoder, OrdinalEncoder\n",
    "from sklearn.linear_model import LogisticRegression, SGDClassifier\n",
    "from sklearn.tree import DecisionTreeClassifier\n",
    "from sklearn.ensemble import RandomForestClassifier\n",
    "from sklearn.neighbors import KNeighborsClassifier\n",
    "from sklearn.svm import SVC"
   ]
  },
  {
   "cell_type": "markdown",
   "metadata": {},
   "source": [
    "## Read in data"
   ]
  },
  {
   "cell_type": "code",
   "execution_count": 10,
   "metadata": {},
   "outputs": [],
   "source": [
    "adam_df_2016 = pd.read_csv(f'../data/Adam_2016_Top_Songs.csv')\n",
    "adam_df_2017 = pd.read_csv(f'../data/Adam_2017_Top_Songs.csv')\n",
    "adam_df_2018 = pd.read_csv(f'../data/Adam_2018_Top_Songs.csv')\n",
    "adam_df_2019 = pd.read_csv(f'../data/Adam_2019_Top_Songs.csv')\n",
    "adam_df_2020 = pd.read_csv(f'../data/Adam_2020_Top_Songs.csv')\n",
    "adam_df_2021 = pd.read_csv(f'../data/Adam_2021_Top_Songs.csv')"
   ]
  },
  {
   "cell_type": "code",
   "execution_count": 11,
   "metadata": {},
   "outputs": [],
   "source": [
    "brenda_df_2016 = pd.read_csv(f'../data/Brenda_2016_Top_Songs.csv')\n",
    "brenda_df_2017 = pd.read_csv(f'../data/Brenda_2017_Top_Songs.csv')\n",
    "brenda_df_2018 = pd.read_csv(f'../data/Brenda_2018_Top_Songs.csv')\n",
    "brenda_df_2019 = pd.read_csv(f'../data/Brenda_2019_Top_Songs.csv')\n",
    "brenda_df_2020 = pd.read_csv(f'../data/Brenda_2020_Top_Songs.csv')\n",
    "brenda_df_2021 = pd.read_csv(f'../data/Brenda_2021_Top_Songs.csv')"
   ]
  },
  {
   "cell_type": "code",
   "execution_count": 12,
   "metadata": {},
   "outputs": [],
   "source": [
    "adam_df_concat = pd.concat([adam_df_2016, adam_df_2017, adam_df_2018, adam_df_2019, adam_df_2020, adam_df_2021], ignore_index=True, axis=0)\n",
    "brenda_df_concat = pd.concat([brenda_df_2016, brenda_df_2017, brenda_df_2018, brenda_df_2019, brenda_df_2020, brenda_df_2021], ignore_index=True, axis=0)\n",
    "both_df_concat = pd.concat([adam_df_concat, brenda_df_concat], ignore_index=True, axis=0)"
   ]
  },
  {
   "cell_type": "markdown",
   "metadata": {},
   "source": [
    "## Prepare data for machine learning models"
   ]
  },
  {
   "cell_type": "markdown",
   "metadata": {},
   "source": [
    "### Convert numeric variables to scale of [0,1]"
   ]
  },
  {
   "cell_type": "code",
   "execution_count": 13,
   "metadata": {},
   "outputs": [],
   "source": [
    "# Funtion also used in \"01_Data_Visualization.ipynb\"\n",
    "# Create function to do linear transformation on variable to change value to [0,1]\n",
    "def convert_scale(df, col):\n",
    "    df[col + '_old'] = df[col]\n",
    "    new_max = 1\n",
    "    new_min = 0\n",
    "    new_range = new_max-new_min\n",
    "    max_val = df[col].max()\n",
    "    min_val=df[col].min()\n",
    "    val_range = max_val - min_val\n",
    "    df[col]=df[col].apply(lambda x: (((x-min_val)*new_range)/val_range)+new_min)\n",
    "    return"
   ]
  },
  {
   "cell_type": "code",
   "execution_count": 14,
   "metadata": {},
   "outputs": [],
   "source": [
    "numeric_cols = ['length',\n",
    "                'popularity',\n",
    "                'acousticness', \n",
    "                'danceability',\n",
    "                'energy', \n",
    "                'instrumentalness',\n",
    "                'liveness',\n",
    "                'loudness',\n",
    "                'speechiness',\n",
    "                'valence',\n",
    "                'tempo', \n",
    "                'release_year']\n",
    "\n",
    "for col in numeric_cols:\n",
    "    convert_scale(both_df_concat, col)"
   ]
  },
  {
   "cell_type": "code",
   "execution_count": 15,
   "metadata": {},
   "outputs": [],
   "source": [
    "df_both_adj = both_df_concat.copy()\n",
    "# df_both_adj"
   ]
  },
  {
   "cell_type": "markdown",
   "metadata": {},
   "source": [
    "### Onehot encode categorical variables"
   ]
  },
  {
   "cell_type": "code",
   "execution_count": 16,
   "metadata": {},
   "outputs": [
    {
     "name": "stderr",
     "output_type": "stream",
     "text": [
      "/anaconda3/lib/python3.6/site-packages/sklearn/preprocessing/_encoders.py:371: FutureWarning: The handling of integer data will change in version 0.22. Currently, the categories are determined based on the range [0, max(values)], while in the future they will be determined based on the unique values.\n",
      "If you want the future behaviour and silence this warning, you can specify \"categories='auto'\".\n",
      "In case you used a LabelEncoder before this OneHotEncoder to convert the categories to integers, then you can now use the OneHotEncoder directly.\n",
      "  warnings.warn(msg, FutureWarning)\n"
     ]
    }
   ],
   "source": [
    "oe_style = OneHotEncoder()\n",
    "oe_results = oe_style.fit_transform(df_both_adj[['time_signature', 'mode', 'key']])\n",
    "onehot = pd.DataFrame(oe_results.toarray(), columns=['time_signature_1', 'time_signature_2', \n",
    "                                                     'time_signature_3', 'time_signature_4', \n",
    "                                                     'mode_1', 'mode_2',\n",
    "                                                     'key_1', 'key_2', 'key_3', 'key_4', 'key_5', 'key_6',\n",
    "                                                     'key_7', 'key_8', 'key_9', 'key_10', 'key_11', 'key_12'])\n",
    "df_both_adj = pd.concat([df_both_adj, onehot], axis=1) \n",
    "# df_both_adj.T"
   ]
  },
  {
   "cell_type": "code",
   "execution_count": 17,
   "metadata": {},
   "outputs": [],
   "source": [
    "model_feature_cols = ['energy',\n",
    "    'valence',\n",
    "    'danceability',\n",
    "    'liveness',\n",
    "    'speechiness',\n",
    "    'instrumentalness',\n",
    "    'acousticness',\n",
    "    'loudness',\n",
    "    'length',\n",
    "    'popularity',\n",
    "    'tempo',\n",
    "    'release_year',\n",
    "    'time_signature_1',\n",
    "    'time_signature_2',\n",
    "    'time_signature_3',\n",
    "    'time_signature_4',\n",
    "    'mode_1', \n",
    "    'mode_2',\n",
    "    'key_1',\n",
    "    'key_2',\n",
    "    'key_3',\n",
    "    'key_4',\n",
    "    'key_5',\n",
    "    'key_6',\n",
    "    'key_7',       \n",
    "    'key_8',\n",
    "    'key_9',\n",
    "    'key_10',\n",
    "    'key_11',\n",
    "    'key_12']\n",
    "\n",
    "model_y_cols = ['name', \n",
    "                'album', \n",
    "                'artist']"
   ]
  },
  {
   "cell_type": "code",
   "execution_count": 18,
   "metadata": {},
   "outputs": [],
   "source": [
    "df_both_adj = df_both_adj[model_feature_cols + model_y_cols]\n",
    "df_both_adj['true_label'] = ['0'] * 600 + ['1'] * 600\n",
    "\n",
    "adam_df_concat = df_both_adj.iloc[:600]\n",
    "brenda_df_concat  = df_both_adj.iloc[600:].reset_index()"
   ]
  },
  {
   "cell_type": "markdown",
   "metadata": {},
   "source": [
    "### Remove repeated songs"
   ]
  },
  {
   "cell_type": "code",
   "execution_count": 19,
   "metadata": {},
   "outputs": [],
   "source": [
    "# remove repeats on individual playlists\n",
    "def remove_repeats(df):\n",
    "    rows_old = range(len(df['name']))\n",
    "    rows_new = []\n",
    "    skips = []\n",
    "    for i in range(len(df['name'])):\n",
    "        for j in range(i+1, len(df['name'])):\n",
    "            if (df['name'][i] == df['name'][j]) and (df['artist'][i] == df['artist'][j]):\n",
    "                skips.append(j)\n",
    "    for row in rows_old:\n",
    "        if not row in skips:\n",
    "            rows_new.append(row)\n",
    "    df = df.iloc[rows_new,:].reset_index(drop=True)\n",
    "    return df"
   ]
  },
  {
   "cell_type": "code",
   "execution_count": 20,
   "metadata": {},
   "outputs": [
    {
     "name": "stdout",
     "output_type": "stream",
     "text": [
      "456 519\n"
     ]
    }
   ],
   "source": [
    "df_adam_no_repaeats = remove_repeats(adam_df_concat)\n",
    "df_brenda_no_repeats = remove_repeats(brenda_df_concat)\n",
    "\n",
    "print(len(df_adam_no_repaeats), len(df_brenda_no_repeats))"
   ]
  },
  {
   "cell_type": "markdown",
   "metadata": {},
   "source": [
    "### Remove songs if they have both categories"
   ]
  },
  {
   "cell_type": "code",
   "execution_count": 21,
   "metadata": {},
   "outputs": [
    {
     "name": "stdout",
     "output_type": "stream",
     "text": [
      "444\n",
      "507\n"
     ]
    }
   ],
   "source": [
    "# remove songs on both playlists (12)\n",
    "def remove_same_songs(df1, df2):\n",
    "    rows_old_df1 = range(len(df1['name']))\n",
    "    rows_new_df1 = []\n",
    "    rows_old_df2 = range(len(df2['name']))\n",
    "    rows_new_df2 = []\n",
    "    same_songs_df1 = []\n",
    "    same_songs_df2 = []\n",
    "    for i in range(len(df1['name'])):\n",
    "        for j in range(len(df2['name'])):\n",
    "            if (df1['name'][i] == df2['name'][j]) and (df1['artist'][i] == df2['artist'][j]):\n",
    "                same_songs_df1.append(i)\n",
    "                same_songs_df2.append(j)\n",
    "    for row in rows_old_df1:\n",
    "        if not row in same_songs_df1:\n",
    "            rows_new_df1.append(row)\n",
    "    for row in rows_old_df2:\n",
    "        if not row in same_songs_df2:\n",
    "            rows_new_df2.append(row)\n",
    "    df1 = df1.iloc[rows_new_df1,:].reset_index(drop=True)\n",
    "    df2 = df2.iloc[rows_new_df2,:].reset_index(drop=True)\n",
    "    return df1, df2\n",
    "    \n",
    "df_adam_no_repeats_no_same, df_brenda_no_repeats_no_same = remove_same_songs(df_adam_no_repaeats,\n",
    "                                                                               df_brenda_no_repeats)\n",
    "print(len(df_adam_no_repeats_no_same))\n",
    "print(len(df_brenda_no_repeats_no_same))\n",
    "# print(df_adam_no_repaeats_no_same)"
   ]
  },
  {
   "cell_type": "markdown",
   "metadata": {},
   "source": [
    "### Upsample smaller category so number of samples per class size is equal"
   ]
  },
  {
   "cell_type": "code",
   "execution_count": 22,
   "metadata": {},
   "outputs": [],
   "source": [
    "# upsample adam for same size categories\n",
    "def add_missing_songs(df, n, state):\n",
    "    r = np.random.RandomState(seed=state)\n",
    "    new_samples = r.choice(df.shape[0], size=n, replace=False)\n",
    "    new_df = pd.concat([df,  df.iloc[new_samples,:]], ignore_index=True, axis=0)\n",
    "    return new_df"
   ]
  },
  {
   "cell_type": "code",
   "execution_count": 23,
   "metadata": {},
   "outputs": [],
   "source": [
    "df_adam_no_repeats_no_same_up_sampled = add_missing_songs(df_adam_no_repeats_no_same, 63, 42)\n",
    "# df_adam_no_repeats_no_same_up_sampled"
   ]
  },
  {
   "cell_type": "code",
   "execution_count": 24,
   "metadata": {},
   "outputs": [],
   "source": [
    "def limit_features(df):\n",
    "    return df[model_feature_cols]"
   ]
  },
  {
   "cell_type": "code",
   "execution_count": 25,
   "metadata": {},
   "outputs": [],
   "source": [
    "adam_features = limit_features(df_adam_no_repeats_no_same_up_sampled)\n",
    "brenda_features = limit_features(df_brenda_no_repeats_no_same)"
   ]
  },
  {
   "cell_type": "markdown",
   "metadata": {},
   "source": [
    "### Get training and test sets"
   ]
  },
  {
   "cell_type": "code",
   "execution_count": 26,
   "metadata": {},
   "outputs": [],
   "source": [
    "def get_train_test(df, n, state):\n",
    "    r = np.random.RandomState(seed=state)\n",
    "    new_samples = list(r.choice(df.shape[0], size=n, replace=False))\n",
    "    \n",
    "    train_1 = new_samples[0:400] + new_samples[500:508]\n",
    "    test_1 = new_samples[400:500]\n",
    "    \n",
    "    train_2 = new_samples[0:300] + new_samples[400:500] + new_samples[500:508]\n",
    "    test_2 = new_samples[300:400]\n",
    "    \n",
    "    train_3 = new_samples[0:200] + new_samples[300:500] + new_samples[500:508]\n",
    "    test_3 = new_samples[200:300]\n",
    "    \n",
    "    train_4 = new_samples[0:100] + new_samples[200:500] + new_samples[500:508]\n",
    "    test_4 = new_samples[100:200]\n",
    "    \n",
    "    train_5 = new_samples[200:500] + new_samples[500:508]\n",
    "    test_5 = new_samples[0:100]\n",
    "    \n",
    "#     print(new_samples)\n",
    "    \n",
    "    return train_1, test_1, train_2, test_2, train_3, test_3, train_4, test_4, train_5, test_5"
   ]
  },
  {
   "cell_type": "code",
   "execution_count": 27,
   "metadata": {
    "scrolled": false
   },
   "outputs": [],
   "source": [
    "train_test = get_train_test(df_adam_no_repeats_no_same_up_sampled,\n",
    "                            df_adam_no_repeats_no_same_up_sampled.shape[0],\n",
    "                            42)\n",
    "\n",
    "train_1, test_1, train_2, test_2, train_3, test_3, train_4, test_4, train_5, test_5 =\\\n",
    "train_test[0], train_test[1], train_test[2], train_test[3], train_test[4], train_test[5], train_test[6], train_test[7], train_test[8], train_test[9]"
   ]
  },
  {
   "cell_type": "code",
   "execution_count": 28,
   "metadata": {},
   "outputs": [],
   "source": [
    "adam_train_1 = adam_features.iloc[train_1,:]\n",
    "adam_train_2 = adam_features.iloc[train_2,:]\n",
    "adam_train_3 = adam_features.iloc[train_3,:]\n",
    "adam_train_4 = adam_features.iloc[train_4,:]\n",
    "adam_train_5 = adam_features.iloc[train_5,:]\n",
    "\n",
    "brenda_train_1 = brenda_features.iloc[train_1,:]\n",
    "brenda_train_2 = brenda_features.iloc[train_2,:]\n",
    "brenda_train_3 = brenda_features.iloc[train_3,:]\n",
    "brenda_train_4 = brenda_features.iloc[train_4,:]\n",
    "brenda_train_5 = brenda_features.iloc[train_5,:]\n",
    "\n",
    "adam_test_1 = adam_features.iloc[test_1,:]\n",
    "adam_test_2 = adam_features.iloc[test_2,:]\n",
    "adam_test_3 = adam_features.iloc[test_3,:]\n",
    "adam_test_4 = adam_features.iloc[test_4,:]\n",
    "adam_test_5 = adam_features.iloc[test_5,:]\n",
    "\n",
    "brenda_test_1 = brenda_features.iloc[test_1,:]\n",
    "brenda_test_2 = brenda_features.iloc[test_2,:]\n",
    "brenda_test_3 = brenda_features.iloc[test_3,:]\n",
    "brenda_test_4 = brenda_features.iloc[test_4,:]\n",
    "brenda_test_5 = brenda_features.iloc[test_5,:]"
   ]
  },
  {
   "cell_type": "code",
   "execution_count": 29,
   "metadata": {},
   "outputs": [],
   "source": [
    "def get_train_and_test(adam_train, brenda_train, adam_test, brenda_test):\n",
    "    train_X = pd.concat([adam_train, brenda_train])\n",
    "    test_X = pd.concat([adam_test, brenda_test])\n",
    "    train_y = ([0]*len(adam_train)) + ([1]*len(brenda_train))\n",
    "    test_y = ([0]*len(adam_test)) + ([1]*len(brenda_test))\n",
    "    return train_X, test_X, train_y, test_y"
   ]
  },
  {
   "cell_type": "code",
   "execution_count": 30,
   "metadata": {},
   "outputs": [],
   "source": [
    "train_X_1, test_X_1, train_y_1, test_y_1 = get_train_and_test(adam_train_1, \n",
    "                                                              brenda_train_1, \n",
    "                                                              adam_test_1,\n",
    "                                                              brenda_test_1)\n",
    "train_X_2, test_X_2, train_y_2, test_y_2 = get_train_and_test(adam_train_2,\n",
    "                                                              brenda_train_2,\n",
    "                                                              adam_test_2, \n",
    "                                                              brenda_test_2)\n",
    "train_X_3, test_X_3, train_y_3, test_y_3 = get_train_and_test(adam_train_3,\n",
    "                                                              brenda_train_3, \n",
    "                                                              adam_test_3,\n",
    "                                                              brenda_test_3)\n",
    "train_X_4, test_X_4, train_y_4, test_y_4 = get_train_and_test(adam_train_4,\n",
    "                                                              brenda_train_4, \n",
    "                                                              adam_test_4,\n",
    "                                                              brenda_test_4)\n",
    "train_X_5, test_X_5, train_y_5, test_y_5 = get_train_and_test(adam_train_5,\n",
    "                                                              brenda_train_5, \n",
    "                                                              adam_test_5,\n",
    "                                                              brenda_test_5)"
   ]
  },
  {
   "cell_type": "markdown",
   "metadata": {},
   "source": [
    "### Evaluation functions"
   ]
  },
  {
   "cell_type": "code",
   "execution_count": 31,
   "metadata": {},
   "outputs": [],
   "source": [
    "def accuracy(conf_matrix):\n",
    "    tn = conf_matrix[0][0]\n",
    "    tp = conf_matrix[1][1]\n",
    "    fp = conf_matrix[1][0]\n",
    "    fn = conf_matrix[0][1]\n",
    "    return (tp + tn) / (tp + tn + fp + fn)"
   ]
  },
  {
   "cell_type": "code",
   "execution_count": 32,
   "metadata": {},
   "outputs": [],
   "source": [
    "def precision(conf_matrix):\n",
    "    tp = conf_matrix[1][1]\n",
    "    fp = conf_matrix[1][0]\n",
    "    return tp / (tp + fp)"
   ]
  },
  {
   "cell_type": "code",
   "execution_count": 33,
   "metadata": {},
   "outputs": [],
   "source": [
    "def recall(conf_matrix):\n",
    "    tp = conf_matrix[1][1]\n",
    "    fn = conf_matrix[0][1]\n",
    "    return tp / (tp + fn)"
   ]
  },
  {
   "cell_type": "code",
   "execution_count": 34,
   "metadata": {},
   "outputs": [],
   "source": [
    "def specificity(conf_matrix):\n",
    "    tn = conf_matrix[0][0]\n",
    "    fp = conf_matrix[1][0]\n",
    "    return tn / (tn + fp)"
   ]
  },
  {
   "cell_type": "code",
   "execution_count": 35,
   "metadata": {},
   "outputs": [],
   "source": [
    "def f1(conf_matrix):\n",
    "    tp = conf_matrix[1][1]\n",
    "    fp = conf_matrix[1][0]\n",
    "    fn = conf_matrix[0][1]\n",
    "    precision_ = precision(conf_matrix)\n",
    "    recall_ = recall(conf_matrix)\n",
    "    return 2 * precision_ * recall_ / (precision_ + recall_)"
   ]
  },
  {
   "cell_type": "code",
   "execution_count": 36,
   "metadata": {},
   "outputs": [],
   "source": [
    "def plot_roc(title, false_positive_rate, true_positive_rate, save=False):\n",
    "    plt.subplots(1)\n",
    "    plt.title(title)\n",
    "    plt.plot(false_positive_rate, true_positive_rate)\n",
    "    plt.plot([0, 1], ls=\"--\")\n",
    "    plt.plot([0, 0], [1, 0] , c=\".7\"), plt.plot([1, 1] , c=\".7\")\n",
    "    plt.ylabel('True Positive Rate')\n",
    "    plt.xlabel('False Positive Rate')\n",
    "    if save != False:\n",
    "        plt.savefig(save, bbox_inches='tight')\n",
    "    plt.show()\n",
    "    \n",
    "def plot_pr_curve(y_test, y_score, save=False):\n",
    "    # calculate precision and recall\n",
    "    precision, recall, thresholds = precision_recall_curve(y_test, y_score)\n",
    "\n",
    "    #create precision recall curve\n",
    "    fig, ax = plt.subplots()\n",
    "    ax.plot(recall, precision, color='purple')\n",
    "    \n",
    "    #add axis labels to plot\n",
    "    ax.set_title('Precision-Recall Curve')\n",
    "    ax.set_ylabel('Precision')\n",
    "    ax.set_xlabel('Recall')\n",
    "\n",
    "    #display plot\n",
    "    if save != False:\n",
    "        plt.savefig(save, bbox_inches='tight')\n",
    "    plt.show()"
   ]
  },
  {
   "cell_type": "markdown",
   "metadata": {},
   "source": [
    "### Compare predictions to actual"
   ]
  },
  {
   "cell_type": "code",
   "execution_count": 37,
   "metadata": {},
   "outputs": [],
   "source": [
    "def compare_predictions_Adam(preds, preds_, actual, test_set, df_X_no_repeats_no_same_up_sampled):\n",
    "    test_set = test_set.copy()\n",
    "    test_set.loc[:,'prediction'] = preds[:100]\n",
    "    test_set.loc[:,'prediction_probability'] = preds_[:100]\n",
    "    test_set['actual'] = actual[:100]\n",
    "    test_set.loc[:,'name'] = df_X_no_repeats_no_same_up_sampled.loc[test_set.index,'name']\n",
    "    test_set.loc[:,'artist'] = df_X_no_repeats_no_same_up_sampled.loc[test_set.index,'artist']\n",
    "    test_set.loc[:,'album'] = df_X_no_repeats_no_same_up_sampled.loc[test_set.index,'album']\n",
    "    test_set = test_set.reset_index()\n",
    "    test_set = test_set.rename(columns={'index': 'original_index'})\n",
    "    test_set = test_set.sort_values('prediction_probability', ascending=False).reset_index()   \n",
    "    return test_set\n",
    "\n",
    "\n",
    "def compare_predictions_Brenda(preds, preds_, actual, test_set, df_X_no_repeats_no_same):\n",
    "    test_set = test_set.copy()\n",
    "    test_set.loc[:,'prediction'] = preds[100:]\n",
    "    test_set.loc[:,'prediction_probability'] = preds_[100:]\n",
    "    test_set['actual'] = actual[100:]\n",
    "    test_set.loc[:,'name'] = df_X_no_repeats_no_same.loc[test_set.index,'name']\n",
    "    test_set.loc[:,'artist'] = df_X_no_repeats_no_same.loc[test_set.index,'artist']\n",
    "    test_set.loc[:,'album'] = df_X_no_repeats_no_same.loc[test_set.index,'album']\n",
    "    test_set = test_set.reset_index()\n",
    "    test_set = test_set.rename(columns={'index': 'original_index'})\n",
    "    test_set = test_set.sort_values('prediction_probability', ascending=True).reset_index()\n",
    "    return test_set"
   ]
  },
  {
   "cell_type": "markdown",
   "metadata": {},
   "source": [
    "### Logistic Regression"
   ]
  },
  {
   "cell_type": "code",
   "execution_count": 38,
   "metadata": {},
   "outputs": [],
   "source": [
    "lr = LogisticRegression()"
   ]
  },
  {
   "cell_type": "code",
   "execution_count": 39,
   "metadata": {},
   "outputs": [
    {
     "name": "stdout",
     "output_type": "stream",
     "text": [
      "Best Score: 0.7604422604422605\n",
      "Best Hyperparameters: {'penalty': 'l2', 'solver': 'liblinear'}\n"
     ]
    }
   ],
   "source": [
    "# define search space\n",
    "space = dict()\n",
    "\n",
    "space['solver'] = ['newton-cg', 'lbfgs', 'liblinear']\n",
    "space['penalty'] = ['l2']\n",
    "\n",
    "# define search\n",
    "cv = RepeatedStratifiedKFold(n_splits=5, n_repeats=1, random_state=42)\n",
    "search = GridSearchCV(lr, space, scoring='accuracy', cv=cv)\n",
    "result = search.fit(X=train_X_1, y=train_y_1)\n",
    "# summarize result\n",
    "print('Best Score: %s' % result.best_score_)\n",
    "print('Best Hyperparameters: %s' % result.best_params_)"
   ]
  },
  {
   "cell_type": "code",
   "execution_count": 40,
   "metadata": {},
   "outputs": [],
   "source": [
    "lr = LogisticRegression(penalty='l2', solver='liblinear')"
   ]
  },
  {
   "cell_type": "code",
   "execution_count": 41,
   "metadata": {
    "scrolled": true
   },
   "outputs": [
    {
     "data": {
      "text/plain": [
       "array([[86, 14],\n",
       "       [34, 66]])"
      ]
     },
     "execution_count": 41,
     "metadata": {},
     "output_type": "execute_result"
    }
   ],
   "source": [
    "lr.fit(X=train_X_1, y=train_y_1)\n",
    "preds = lr.predict(X=test_X_1)\n",
    "adam_y_test = preds[:100]\n",
    "brenda_y_test = preds[100:]\n",
    "actual_values = [0] * 100 + [1] * 100\n",
    "predicted_values = list(preds[:100]) + list(preds[100:])\n",
    "preds_ = lr.predict_proba(test_X_1)[:,1]\n",
    "false_positive_rate, true_positive_rate, threshold = roc_curve(actual_values, preds_)\n",
    "# in binary classification, \n",
    "# the count of true negatives is C_00,\n",
    "# false negatives is C_10,\n",
    "# true positives is  C_11, \n",
    "# and false positives is C_01.\n",
    "conf_matrix = confusion_matrix(actual_values, predicted_values)\n",
    "conf_matrix"
   ]
  },
  {
   "cell_type": "code",
   "execution_count": 42,
   "metadata": {},
   "outputs": [
    {
     "data": {
      "text/plain": [
       "0.76"
      ]
     },
     "execution_count": 42,
     "metadata": {},
     "output_type": "execute_result"
    }
   ],
   "source": [
    "accuracy(conf_matrix)"
   ]
  },
  {
   "cell_type": "code",
   "execution_count": 43,
   "metadata": {},
   "outputs": [
    {
     "data": {
      "text/plain": [
       "0.66"
      ]
     },
     "execution_count": 43,
     "metadata": {},
     "output_type": "execute_result"
    }
   ],
   "source": [
    "precision(conf_matrix)"
   ]
  },
  {
   "cell_type": "code",
   "execution_count": 44,
   "metadata": {},
   "outputs": [
    {
     "data": {
      "text/plain": [
       "0.825"
      ]
     },
     "execution_count": 44,
     "metadata": {},
     "output_type": "execute_result"
    }
   ],
   "source": [
    "recall(conf_matrix)"
   ]
  },
  {
   "cell_type": "code",
   "execution_count": 45,
   "metadata": {},
   "outputs": [
    {
     "data": {
      "text/plain": [
       "0.7166666666666667"
      ]
     },
     "execution_count": 45,
     "metadata": {},
     "output_type": "execute_result"
    }
   ],
   "source": [
    "specificity(conf_matrix)"
   ]
  },
  {
   "cell_type": "code",
   "execution_count": 46,
   "metadata": {},
   "outputs": [
    {
     "data": {
      "text/plain": [
       "0.7333333333333334"
      ]
     },
     "execution_count": 46,
     "metadata": {},
     "output_type": "execute_result"
    }
   ],
   "source": [
    "f1(conf_matrix)"
   ]
  },
  {
   "cell_type": "code",
   "execution_count": 47,
   "metadata": {},
   "outputs": [
    {
     "name": "stdout",
     "output_type": "stream",
     "text": [
      "roc_auc_score:  0.8312\n"
     ]
    },
    {
     "data": {
      "image/png": "[encoded data removed]",
      "text/plain": [
       "<Figure size 432x288 with 1 Axes>"
      ]
     },
     "metadata": {
      "needs_background": "light"
     },
     "output_type": "display_data"
    }
   ],
   "source": [
    "print('roc_auc_score: ', roc_auc_score(actual_values, preds_))\n",
    "plot_roc('ROC Curve', false_positive_rate, true_positive_rate)"
   ]
  },
  {
   "cell_type": "code",
   "execution_count": 48,
   "metadata": {
    "scrolled": true
   },
   "outputs": [
    {
     "name": "stdout",
     "output_type": "stream",
     "text": [
      "pr_auc_score:  0.8514282676635189\n"
     ]
    },
    {
     "data": {
      "image/png": "[encoded data removed]",
      "text/plain": [
       "<Figure size 432x288 with 1 Axes>"
      ]
     },
     "metadata": {
      "needs_background": "light"
     },
     "output_type": "display_data"
    }
   ],
   "source": [
    "print('pr_auc_score: ', average_precision_score(actual_values, preds_))\n",
    "plot_pr_curve(actual_values, preds_)"
   ]
  },
  {
   "cell_type": "code",
   "execution_count": 49,
   "metadata": {},
   "outputs": [],
   "source": [
    "# compare_predictions_Adam(preds, preds_, actual_values, adam_test_1, df_adam_no_repeats_no_same_up_sampled)"
   ]
  },
  {
   "cell_type": "code",
   "execution_count": 50,
   "metadata": {
    "scrolled": false
   },
   "outputs": [],
   "source": [
    "# compare_predictions_Brenda(preds, preds_, actual_values, brenda_test_1, df_brenda_no_repeats)"
   ]
  },
  {
   "cell_type": "code",
   "execution_count": 51,
   "metadata": {
    "scrolled": true
   },
   "outputs": [
    {
     "data": {
      "text/plain": [
       "array([[79, 21],\n",
       "       [25, 75]])"
      ]
     },
     "execution_count": 51,
     "metadata": {},
     "output_type": "execute_result"
    }
   ],
   "source": [
    "lr.fit(X=train_X_2, y=train_y_2)\n",
    "preds = lr.predict(X=test_X_2)\n",
    "adam_y_test = preds[:100]\n",
    "brenda_y_test = preds[100:]\n",
    "actual_values = [0] * 100 + [1] * 100\n",
    "predicted_values = list(preds[:100]) + list(preds[100:])\n",
    "preds_ = lr.predict_proba(test_X_2)[:,1]\n",
    "false_positive_rate, true_positive_rate, threshold = roc_curve(actual_values, preds_)\n",
    "conf_matrix = confusion_matrix(actual_values, predicted_values)\n",
    "conf_matrix"
   ]
  },
  {
   "cell_type": "code",
   "execution_count": 52,
   "metadata": {},
   "outputs": [
    {
     "data": {
      "text/plain": [
       "0.77"
      ]
     },
     "execution_count": 52,
     "metadata": {},
     "output_type": "execute_result"
    }
   ],
   "source": [
    "accuracy(conf_matrix)"
   ]
  },
  {
   "cell_type": "code",
   "execution_count": 53,
   "metadata": {},
   "outputs": [
    {
     "data": {
      "text/plain": [
       "0.75"
      ]
     },
     "execution_count": 53,
     "metadata": {},
     "output_type": "execute_result"
    }
   ],
   "source": [
    "precision(conf_matrix)"
   ]
  },
  {
   "cell_type": "code",
   "execution_count": 54,
   "metadata": {},
   "outputs": [
    {
     "data": {
      "text/plain": [
       "0.78125"
      ]
     },
     "execution_count": 54,
     "metadata": {},
     "output_type": "execute_result"
    }
   ],
   "source": [
    "recall(conf_matrix)"
   ]
  },
  {
   "cell_type": "code",
   "execution_count": 55,
   "metadata": {},
   "outputs": [
    {
     "data": {
      "text/plain": [
       "0.7596153846153846"
      ]
     },
     "execution_count": 55,
     "metadata": {},
     "output_type": "execute_result"
    }
   ],
   "source": [
    "specificity(conf_matrix)"
   ]
  },
  {
   "cell_type": "code",
   "execution_count": 56,
   "metadata": {},
   "outputs": [
    {
     "data": {
      "text/plain": [
       "0.7653061224489796"
      ]
     },
     "execution_count": 56,
     "metadata": {},
     "output_type": "execute_result"
    }
   ],
   "source": [
    "f1(conf_matrix)"
   ]
  },
  {
   "cell_type": "code",
   "execution_count": 57,
   "metadata": {},
   "outputs": [
    {
     "name": "stdout",
     "output_type": "stream",
     "text": [
      "roc_auc_score:  0.8786\n"
     ]
    },
    {
     "data": {
      "image/png": "[encoded data removed]",
      "text/plain": [
       "<Figure size 432x288 with 1 Axes>"
      ]
     },
     "metadata": {
      "needs_background": "light"
     },
     "output_type": "display_data"
    }
   ],
   "source": [
    "print('roc_auc_score: ', roc_auc_score(actual_values, preds_))\n",
    "plot_roc('ROC Curve', false_positive_rate, true_positive_rate)"
   ]
  },
  {
   "cell_type": "code",
   "execution_count": 58,
   "metadata": {
    "scrolled": false
   },
   "outputs": [
    {
     "name": "stdout",
     "output_type": "stream",
     "text": [
      "pr_auc_score:  0.8845625878171114\n"
     ]
    },
    {
     "data": {
      "image/png": "[encoded data removed]",
      "text/plain": [
       "<Figure size 432x288 with 1 Axes>"
      ]
     },
     "metadata": {
      "needs_background": "light"
     },
     "output_type": "display_data"
    }
   ],
   "source": [
    "print('pr_auc_score: ', average_precision_score(actual_values, preds_))\n",
    "plot_pr_curve(actual_values, preds_)"
   ]
  },
  {
   "cell_type": "code",
   "execution_count": 59,
   "metadata": {
    "scrolled": false
   },
   "outputs": [],
   "source": [
    "# compare_predictions_Adam(preds, preds_, actual_values, adam_test_2, df_adam_no_repeats_no_same_up_sampled)"
   ]
  },
  {
   "cell_type": "code",
   "execution_count": 60,
   "metadata": {
    "scrolled": false
   },
   "outputs": [],
   "source": [
    "# compare_predictions_Brenda(preds, preds_, actual_values, brenda_test_2, df_brenda_no_repeats)"
   ]
  },
  {
   "cell_type": "code",
   "execution_count": 61,
   "metadata": {},
   "outputs": [
    {
     "data": {
      "text/plain": [
       "array([[74, 26],\n",
       "       [27, 73]])"
      ]
     },
     "execution_count": 61,
     "metadata": {},
     "output_type": "execute_result"
    }
   ],
   "source": [
    "lr.fit(X=train_X_3, y=train_y_3)\n",
    "preds = lr.predict(X=test_X_3)\n",
    "adam_y_test = preds[:100]\n",
    "brenda_y_test = preds[100:]\n",
    "actual_values = [0] * 100 + [1] * 100\n",
    "predicted_values = list(preds[:100]) + list(preds[100:])\n",
    "preds_ = lr.predict_proba(test_X_3)[:,1]\n",
    "false_positive_rate, true_positive_rate, threshold = roc_curve(actual_values, preds_)\n",
    "conf_matrix = confusion_matrix(actual_values, predicted_values)\n",
    "conf_matrix"
   ]
  },
  {
   "cell_type": "code",
   "execution_count": 62,
   "metadata": {},
   "outputs": [
    {
     "data": {
      "text/plain": [
       "0.735"
      ]
     },
     "execution_count": 62,
     "metadata": {},
     "output_type": "execute_result"
    }
   ],
   "source": [
    "accuracy(conf_matrix)"
   ]
  },
  {
   "cell_type": "code",
   "execution_count": 63,
   "metadata": {},
   "outputs": [
    {
     "data": {
      "text/plain": [
       "0.73"
      ]
     },
     "execution_count": 63,
     "metadata": {},
     "output_type": "execute_result"
    }
   ],
   "source": [
    "precision(conf_matrix)"
   ]
  },
  {
   "cell_type": "code",
   "execution_count": 64,
   "metadata": {},
   "outputs": [
    {
     "data": {
      "text/plain": [
       "0.7373737373737373"
      ]
     },
     "execution_count": 64,
     "metadata": {},
     "output_type": "execute_result"
    }
   ],
   "source": [
    "recall(conf_matrix)"
   ]
  },
  {
   "cell_type": "code",
   "execution_count": 65,
   "metadata": {},
   "outputs": [
    {
     "data": {
      "text/plain": [
       "0.7326732673267327"
      ]
     },
     "execution_count": 65,
     "metadata": {},
     "output_type": "execute_result"
    }
   ],
   "source": [
    "specificity(conf_matrix)"
   ]
  },
  {
   "cell_type": "code",
   "execution_count": 66,
   "metadata": {},
   "outputs": [
    {
     "data": {
      "text/plain": [
       "0.7336683417085427"
      ]
     },
     "execution_count": 66,
     "metadata": {},
     "output_type": "execute_result"
    }
   ],
   "source": [
    "f1(conf_matrix)"
   ]
  },
  {
   "cell_type": "code",
   "execution_count": 67,
   "metadata": {},
   "outputs": [
    {
     "name": "stdout",
     "output_type": "stream",
     "text": [
      "roc_auc_score:  0.8123\n"
     ]
    },
    {
     "data": {
      "image/png": "[encoded data removed]",
      "text/plain": [
       "<Figure size 432x288 with 1 Axes>"
      ]
     },
     "metadata": {
      "needs_background": "light"
     },
     "output_type": "display_data"
    }
   ],
   "source": [
    "print('roc_auc_score: ', roc_auc_score(actual_values, preds_))\n",
    "plot_roc('ROC Curve', false_positive_rate, true_positive_rate)"
   ]
  },
  {
   "cell_type": "code",
   "execution_count": 68,
   "metadata": {
    "scrolled": false
   },
   "outputs": [
    {
     "name": "stdout",
     "output_type": "stream",
     "text": [
      "pr_auc_score:  0.8043326358513977\n"
     ]
    },
    {
     "data": {
      "image/png": "[encoded data removed]",
      "text/plain": [
       "<Figure size 432x288 with 1 Axes>"
      ]
     },
     "metadata": {
      "needs_background": "light"
     },
     "output_type": "display_data"
    }
   ],
   "source": [
    "print('pr_auc_score: ', average_precision_score(actual_values, preds_))\n",
    "plot_pr_curve(actual_values, preds_)"
   ]
  },
  {
   "cell_type": "code",
   "execution_count": 69,
   "metadata": {
    "scrolled": false
   },
   "outputs": [],
   "source": [
    "# compare_predictions_Adam(preds, preds_, actual_values, adam_test_3, df_adam_no_repeats_no_same_up_sampled)"
   ]
  },
  {
   "cell_type": "code",
   "execution_count": 70,
   "metadata": {
    "scrolled": false
   },
   "outputs": [],
   "source": [
    "# compare_predictions_Brenda(preds, preds_, actual_values, brenda_test_3, df_brenda_no_repeats)"
   ]
  },
  {
   "cell_type": "code",
   "execution_count": 71,
   "metadata": {},
   "outputs": [
    {
     "data": {
      "text/plain": [
       "array([[76, 24],\n",
       "       [16, 84]])"
      ]
     },
     "execution_count": 71,
     "metadata": {},
     "output_type": "execute_result"
    }
   ],
   "source": [
    "lr.fit(X=train_X_4, y=train_y_4)\n",
    "preds = lr.predict(X=test_X_4)\n",
    "adam_y_test = preds[:100]\n",
    "brenda_y_test = preds[100:]\n",
    "actual_values = [0] * 100 + [1] * 100\n",
    "predicted_values = list(preds[:100]) + list(preds[100:])\n",
    "preds_ = lr.predict_proba(test_X_4)[:,1]\n",
    "false_positive_rate, true_positive_rate, threshold = roc_curve(actual_values, preds_)\n",
    "conf_matrix = confusion_matrix(actual_values, predicted_values)\n",
    "conf_matrix"
   ]
  },
  {
   "cell_type": "code",
   "execution_count": 72,
   "metadata": {},
   "outputs": [
    {
     "data": {
      "text/plain": [
       "0.8"
      ]
     },
     "execution_count": 72,
     "metadata": {},
     "output_type": "execute_result"
    }
   ],
   "source": [
    "accuracy(conf_matrix)"
   ]
  },
  {
   "cell_type": "code",
   "execution_count": 73,
   "metadata": {},
   "outputs": [
    {
     "data": {
      "text/plain": [
       "0.84"
      ]
     },
     "execution_count": 73,
     "metadata": {},
     "output_type": "execute_result"
    }
   ],
   "source": [
    "precision(conf_matrix)"
   ]
  },
  {
   "cell_type": "code",
   "execution_count": 74,
   "metadata": {},
   "outputs": [
    {
     "data": {
      "text/plain": [
       "0.7777777777777778"
      ]
     },
     "execution_count": 74,
     "metadata": {},
     "output_type": "execute_result"
    }
   ],
   "source": [
    "recall(conf_matrix)"
   ]
  },
  {
   "cell_type": "code",
   "execution_count": 75,
   "metadata": {},
   "outputs": [
    {
     "data": {
      "text/plain": [
       "0.8260869565217391"
      ]
     },
     "execution_count": 75,
     "metadata": {},
     "output_type": "execute_result"
    }
   ],
   "source": [
    "specificity(conf_matrix)"
   ]
  },
  {
   "cell_type": "code",
   "execution_count": 76,
   "metadata": {},
   "outputs": [
    {
     "data": {
      "text/plain": [
       "0.8076923076923077"
      ]
     },
     "execution_count": 76,
     "metadata": {},
     "output_type": "execute_result"
    }
   ],
   "source": [
    "f1(conf_matrix)"
   ]
  },
  {
   "cell_type": "code",
   "execution_count": 77,
   "metadata": {
    "scrolled": false
   },
   "outputs": [
    {
     "name": "stdout",
     "output_type": "stream",
     "text": [
      "roc_auc_score:  0.8486\n"
     ]
    },
    {
     "data": {
      "image/png": "[encoded data removed]",
      "text/plain": [
       "<Figure size 432x288 with 1 Axes>"
      ]
     },
     "metadata": {
      "needs_background": "light"
     },
     "output_type": "display_data"
    }
   ],
   "source": [
    "print('roc_auc_score: ', roc_auc_score(actual_values, preds_))\n",
    "plot_roc('ROC Curve', false_positive_rate, true_positive_rate)"
   ]
  },
  {
   "cell_type": "code",
   "execution_count": 78,
   "metadata": {
    "scrolled": true
   },
   "outputs": [
    {
     "name": "stdout",
     "output_type": "stream",
     "text": [
      "pr_auc_score:  0.8174128967633436\n"
     ]
    },
    {
     "data": {
      "image/png": "[encoded data removed]",
      "text/plain": [
       "<Figure size 432x288 with 1 Axes>"
      ]
     },
     "metadata": {
      "needs_background": "light"
     },
     "output_type": "display_data"
    }
   ],
   "source": [
    "print('pr_auc_score: ', average_precision_score(actual_values, preds_))\n",
    "plot_pr_curve(actual_values, preds_)"
   ]
  },
  {
   "cell_type": "code",
   "execution_count": 79,
   "metadata": {
    "scrolled": false
   },
   "outputs": [],
   "source": [
    "# compare_predictions_Adam(preds, preds_, actual_values, adam_test_4, df_adam_no_repeats_no_same_up_sampled)"
   ]
  },
  {
   "cell_type": "code",
   "execution_count": 80,
   "metadata": {
    "scrolled": false
   },
   "outputs": [],
   "source": [
    "# compare_predictions_Brenda(preds, preds_, actual_values, brenda_test_4, df_brenda_no_repeats)"
   ]
  },
  {
   "cell_type": "code",
   "execution_count": 81,
   "metadata": {},
   "outputs": [
    {
     "data": {
      "text/plain": [
       "array([[74, 26],\n",
       "       [20, 80]])"
      ]
     },
     "execution_count": 81,
     "metadata": {},
     "output_type": "execute_result"
    }
   ],
   "source": [
    "lr.fit(X=train_X_5, y=train_y_5)\n",
    "preds = lr.predict(X=test_X_5)\n",
    "adam_y_test = preds[:100]\n",
    "brenda_y_test = preds[100:]\n",
    "actual_values = [0] * 100 + [1] * 100\n",
    "predicted_values = list(preds[:100]) + list(preds[100:])\n",
    "preds_ = lr.predict_proba(test_X_5)[:,1]\n",
    "false_positive_rate, true_positive_rate, threshold = roc_curve(actual_values, preds_)\n",
    "conf_matrix = confusion_matrix(actual_values, predicted_values)\n",
    "conf_matrix"
   ]
  },
  {
   "cell_type": "code",
   "execution_count": 82,
   "metadata": {},
   "outputs": [
    {
     "data": {
      "text/plain": [
       "0.77"
      ]
     },
     "execution_count": 82,
     "metadata": {},
     "output_type": "execute_result"
    }
   ],
   "source": [
    "accuracy(conf_matrix)"
   ]
  },
  {
   "cell_type": "code",
   "execution_count": 83,
   "metadata": {},
   "outputs": [
    {
     "data": {
      "text/plain": [
       "0.8"
      ]
     },
     "execution_count": 83,
     "metadata": {},
     "output_type": "execute_result"
    }
   ],
   "source": [
    "precision(conf_matrix)"
   ]
  },
  {
   "cell_type": "code",
   "execution_count": 84,
   "metadata": {},
   "outputs": [
    {
     "data": {
      "text/plain": [
       "0.7547169811320755"
      ]
     },
     "execution_count": 84,
     "metadata": {},
     "output_type": "execute_result"
    }
   ],
   "source": [
    "recall(conf_matrix)"
   ]
  },
  {
   "cell_type": "code",
   "execution_count": 85,
   "metadata": {},
   "outputs": [
    {
     "data": {
      "text/plain": [
       "0.7872340425531915"
      ]
     },
     "execution_count": 85,
     "metadata": {},
     "output_type": "execute_result"
    }
   ],
   "source": [
    "specificity(conf_matrix)"
   ]
  },
  {
   "cell_type": "code",
   "execution_count": 86,
   "metadata": {},
   "outputs": [
    {
     "data": {
      "text/plain": [
       "0.7766990291262137"
      ]
     },
     "execution_count": 86,
     "metadata": {},
     "output_type": "execute_result"
    }
   ],
   "source": [
    "f1(conf_matrix)"
   ]
  },
  {
   "cell_type": "code",
   "execution_count": 87,
   "metadata": {},
   "outputs": [
    {
     "name": "stdout",
     "output_type": "stream",
     "text": [
      "roc_auc_score:  0.8553\n"
     ]
    },
    {
     "data": {
      "image/png": "[encoded data removed]",
      "text/plain": [
       "<Figure size 432x288 with 1 Axes>"
      ]
     },
     "metadata": {
      "needs_background": "light"
     },
     "output_type": "display_data"
    }
   ],
   "source": [
    "print('roc_auc_score: ', roc_auc_score(actual_values, preds_))\n",
    "plot_roc('ROC Curve', false_positive_rate, true_positive_rate)"
   ]
  },
  {
   "cell_type": "code",
   "execution_count": 88,
   "metadata": {
    "scrolled": false
   },
   "outputs": [
    {
     "name": "stdout",
     "output_type": "stream",
     "text": [
      "pr_auc_score:  0.8699215170678622\n"
     ]
    },
    {
     "data": {
      "image/png": "[encoded data removed]",
      "text/plain": [
       "<Figure size 432x288 with 1 Axes>"
      ]
     },
     "metadata": {
      "needs_background": "light"
     },
     "output_type": "display_data"
    }
   ],
   "source": [
    "print('pr_auc_score: ', average_precision_score(actual_values, preds_))\n",
    "plot_pr_curve(actual_values, preds_)"
   ]
  },
  {
   "cell_type": "code",
   "execution_count": 89,
   "metadata": {
    "scrolled": false
   },
   "outputs": [],
   "source": [
    "# compare_predictions_Adam(preds, preds_, actual_values, adam_test_5, df_adam_no_repeats_no_same_up_sampled)"
   ]
  },
  {
   "cell_type": "code",
   "execution_count": 90,
   "metadata": {
    "scrolled": false
   },
   "outputs": [],
   "source": [
    "# compare_predictions_Brenda(preds, preds_, actual_values, brenda_test_5, df_brenda_no_repeats)"
   ]
  },
  {
   "cell_type": "markdown",
   "metadata": {},
   "source": [
    "### K-nearest neighbors"
   ]
  },
  {
   "cell_type": "code",
   "execution_count": 91,
   "metadata": {},
   "outputs": [],
   "source": [
    "kn = KNeighborsClassifier()"
   ]
  },
  {
   "cell_type": "code",
   "execution_count": 92,
   "metadata": {},
   "outputs": [
    {
     "name": "stdout",
     "output_type": "stream",
     "text": [
      "Best Score: 0.7334152334152334\n",
      "Best Hyperparameters: {'algorithm': 'ball_tree', 'n_neighbors': 23, 'weights': 'distance'}\n"
     ]
    },
    {
     "name": "stderr",
     "output_type": "stream",
     "text": [
      "/anaconda3/lib/python3.6/site-packages/sklearn/model_selection/_search.py:841: DeprecationWarning: The default of the `iid` parameter will change from True to False in version 0.22 and will be removed in 0.24. This will change numeric results when test-set sizes are unequal.\n",
      "  DeprecationWarning)\n"
     ]
    }
   ],
   "source": [
    "# define search space\n",
    "space = dict()\n",
    "\n",
    "space['n_neighbors'] = [1,3,5,8,10,15,19,20,21,22,23,24,25,26,27,28,29,30,35,40,45,50]\n",
    "space['weights'] = ['uniform', 'distance']\n",
    "space['algorithm'] = ['ball_tree', 'kd_tree', 'brute']\n",
    "# space['algorithm'] = ['auto', 'ball_tree', 'kd_tree', 'brute']\n",
    "\n",
    "cv = RepeatedStratifiedKFold(n_splits=5, n_repeats=1, random_state=42)\n",
    "\n",
    "search = GridSearchCV(kn, space, scoring='accuracy', cv=cv)\n",
    "\n",
    "# execute search\n",
    "result = search.fit(X=train_X_1, y=train_y_1)\n",
    "# summarize result\n",
    "print('Best Score: %s' % result.best_score_)\n",
    "print('Best Hyperparameters: %s' % result.best_params_)"
   ]
  },
  {
   "cell_type": "code",
   "execution_count": 93,
   "metadata": {},
   "outputs": [],
   "source": [
    "kn = KNeighborsClassifier(algorithm='ball_tree', n_neighbors=23, weights='distance')"
   ]
  },
  {
   "cell_type": "code",
   "execution_count": 94,
   "metadata": {},
   "outputs": [
    {
     "data": {
      "text/plain": [
       "array([[89, 11],\n",
       "       [41, 59]])"
      ]
     },
     "execution_count": 94,
     "metadata": {},
     "output_type": "execute_result"
    }
   ],
   "source": [
    "kn.fit(X=train_X_1, y=train_y_1)\n",
    "preds = kn.predict(X=test_X_1)\n",
    "adam_y_test = preds[:100]\n",
    "brenda_y_test = preds[100:]\n",
    "actual_values = [0] * 100 + [1] * 100\n",
    "predicted_values = list(preds[:100]) + list(preds[100:])\n",
    "preds_ = kn.predict_proba(test_X_1)[:,1]\n",
    "false_positive_rate, true_positive_rate, threshold = roc_curve(actual_values, preds_)\n",
    "# in binary classification, \n",
    "# the count of true negatives is C_00,\n",
    "# false negatives is C_10,\n",
    "# true positives is  C_11, \n",
    "# and false positives is C_01.\n",
    "conf_matrix = confusion_matrix(actual_values, predicted_values)\n",
    "conf_matrix"
   ]
  },
  {
   "cell_type": "code",
   "execution_count": 95,
   "metadata": {},
   "outputs": [
    {
     "data": {
      "text/plain": [
       "0.74"
      ]
     },
     "execution_count": 95,
     "metadata": {},
     "output_type": "execute_result"
    }
   ],
   "source": [
    "accuracy(conf_matrix)"
   ]
  },
  {
   "cell_type": "code",
   "execution_count": 96,
   "metadata": {},
   "outputs": [
    {
     "data": {
      "text/plain": [
       "0.59"
      ]
     },
     "execution_count": 96,
     "metadata": {},
     "output_type": "execute_result"
    }
   ],
   "source": [
    "precision(conf_matrix)"
   ]
  },
  {
   "cell_type": "code",
   "execution_count": 97,
   "metadata": {},
   "outputs": [
    {
     "data": {
      "text/plain": [
       "0.8428571428571429"
      ]
     },
     "execution_count": 97,
     "metadata": {},
     "output_type": "execute_result"
    }
   ],
   "source": [
    "recall(conf_matrix)"
   ]
  },
  {
   "cell_type": "code",
   "execution_count": 98,
   "metadata": {},
   "outputs": [
    {
     "data": {
      "text/plain": [
       "0.6846153846153846"
      ]
     },
     "execution_count": 98,
     "metadata": {},
     "output_type": "execute_result"
    }
   ],
   "source": [
    "specificity(conf_matrix)"
   ]
  },
  {
   "cell_type": "code",
   "execution_count": 99,
   "metadata": {},
   "outputs": [
    {
     "data": {
      "text/plain": [
       "0.6941176470588235"
      ]
     },
     "execution_count": 99,
     "metadata": {},
     "output_type": "execute_result"
    }
   ],
   "source": [
    "f1(conf_matrix)"
   ]
  },
  {
   "cell_type": "code",
   "execution_count": 100,
   "metadata": {},
   "outputs": [
    {
     "name": "stdout",
     "output_type": "stream",
     "text": [
      "roc_auc_score:  0.8118\n"
     ]
    },
    {
     "data": {
      "image/png": "[encoded data removed]",
      "text/plain": [
       "<Figure size 432x288 with 1 Axes>"
      ]
     },
     "metadata": {
      "needs_background": "light"
     },
     "output_type": "display_data"
    }
   ],
   "source": [
    "print('roc_auc_score: ', roc_auc_score(actual_values, preds_))\n",
    "plot_roc('ROC Curve', false_positive_rate, true_positive_rate)"
   ]
  },
  {
   "cell_type": "code",
   "execution_count": 101,
   "metadata": {
    "scrolled": false
   },
   "outputs": [
    {
     "name": "stdout",
     "output_type": "stream",
     "text": [
      "pr_auc_score:  0.8004063070706083\n"
     ]
    },
    {
     "data": {
      "image/png": "[encoded data removed]",
      "text/plain": [
       "<Figure size 432x288 with 1 Axes>"
      ]
     },
     "metadata": {
      "needs_background": "light"
     },
     "output_type": "display_data"
    }
   ],
   "source": [
    "print('pr_auc_score: ', average_precision_score(actual_values, preds_))\n",
    "plot_pr_curve(actual_values, preds_)"
   ]
  },
  {
   "cell_type": "code",
   "execution_count": 102,
   "metadata": {
    "scrolled": false
   },
   "outputs": [],
   "source": [
    "# compare_predictions_Adam(preds, preds_, actual_values, adam_test_1, df_adam_no_repeats_no_same_up_sampled)"
   ]
  },
  {
   "cell_type": "code",
   "execution_count": 103,
   "metadata": {
    "scrolled": false
   },
   "outputs": [],
   "source": [
    "# compare_predictions_Brenda(preds, preds_, actual_values, brenda_test_1, df_brenda_no_repeats)"
   ]
  },
  {
   "cell_type": "code",
   "execution_count": 104,
   "metadata": {},
   "outputs": [
    {
     "data": {
      "text/plain": [
       "array([[86, 14],\n",
       "       [44, 56]])"
      ]
     },
     "execution_count": 104,
     "metadata": {},
     "output_type": "execute_result"
    }
   ],
   "source": [
    "kn.fit(X=train_X_2, y=train_y_2)\n",
    "preds = kn.predict(X=test_X_2)\n",
    "adam_y_test = preds[:100]\n",
    "brenda_y_test = preds[100:]\n",
    "actual_values = [0] * 100 + [1] * 100\n",
    "predicted_values = list(preds[:100]) + list(preds[100:])\n",
    "preds_ = kn.predict_proba(test_X_2)[:,1]\n",
    "false_positive_rate, true_positive_rate, threshold = roc_curve(actual_values, preds_)\n",
    "conf_matrix = confusion_matrix(actual_values, predicted_values)\n",
    "conf_matrix"
   ]
  },
  {
   "cell_type": "code",
   "execution_count": 105,
   "metadata": {},
   "outputs": [
    {
     "data": {
      "text/plain": [
       "0.71"
      ]
     },
     "execution_count": 105,
     "metadata": {},
     "output_type": "execute_result"
    }
   ],
   "source": [
    "accuracy(conf_matrix)"
   ]
  },
  {
   "cell_type": "code",
   "execution_count": 106,
   "metadata": {},
   "outputs": [
    {
     "data": {
      "text/plain": [
       "0.56"
      ]
     },
     "execution_count": 106,
     "metadata": {},
     "output_type": "execute_result"
    }
   ],
   "source": [
    "precision(conf_matrix)"
   ]
  },
  {
   "cell_type": "code",
   "execution_count": 107,
   "metadata": {},
   "outputs": [
    {
     "data": {
      "text/plain": [
       "0.8"
      ]
     },
     "execution_count": 107,
     "metadata": {},
     "output_type": "execute_result"
    }
   ],
   "source": [
    "recall(conf_matrix)"
   ]
  },
  {
   "cell_type": "code",
   "execution_count": 108,
   "metadata": {},
   "outputs": [
    {
     "data": {
      "text/plain": [
       "0.6615384615384615"
      ]
     },
     "execution_count": 108,
     "metadata": {},
     "output_type": "execute_result"
    }
   ],
   "source": [
    "specificity(conf_matrix)"
   ]
  },
  {
   "cell_type": "code",
   "execution_count": 109,
   "metadata": {},
   "outputs": [
    {
     "data": {
      "text/plain": [
       "0.6588235294117648"
      ]
     },
     "execution_count": 109,
     "metadata": {},
     "output_type": "execute_result"
    }
   ],
   "source": [
    "f1(conf_matrix)"
   ]
  },
  {
   "cell_type": "code",
   "execution_count": 110,
   "metadata": {},
   "outputs": [
    {
     "name": "stdout",
     "output_type": "stream",
     "text": [
      "roc_auc_score:  0.8109999999999999\n"
     ]
    },
    {
     "data": {
      "image/png": "[encoded data removed]",
      "text/plain": [
       "<Figure size 432x288 with 1 Axes>"
      ]
     },
     "metadata": {
      "needs_background": "light"
     },
     "output_type": "display_data"
    }
   ],
   "source": [
    "print('roc_auc_score: ', roc_auc_score(actual_values, preds_))\n",
    "plot_roc('ROC Curve', false_positive_rate, true_positive_rate)"
   ]
  },
  {
   "cell_type": "code",
   "execution_count": 111,
   "metadata": {
    "scrolled": true
   },
   "outputs": [
    {
     "name": "stdout",
     "output_type": "stream",
     "text": [
      "pr_auc_score:  0.8165163070285097\n"
     ]
    },
    {
     "data": {
      "image/png": "[encoded data removed]",
      "text/plain": [
       "<Figure size 432x288 with 1 Axes>"
      ]
     },
     "metadata": {
      "needs_background": "light"
     },
     "output_type": "display_data"
    }
   ],
   "source": [
    "print('pr_auc_score: ', average_precision_score(actual_values, preds_))\n",
    "plot_pr_curve(actual_values, preds_)"
   ]
  },
  {
   "cell_type": "code",
   "execution_count": 112,
   "metadata": {},
   "outputs": [],
   "source": [
    "# compare_predictions_Adam(preds, preds_, actual_values, adam_test_2, df_adam_no_repeats_no_same_up_sampled)"
   ]
  },
  {
   "cell_type": "code",
   "execution_count": 113,
   "metadata": {
    "scrolled": false
   },
   "outputs": [],
   "source": [
    "# compare_predictions_Brenda(preds, preds_, actual_values, brenda_test_2, df_brenda_no_repeats)"
   ]
  },
  {
   "cell_type": "code",
   "execution_count": 114,
   "metadata": {},
   "outputs": [
    {
     "data": {
      "text/plain": [
       "array([[79, 21],\n",
       "       [44, 56]])"
      ]
     },
     "execution_count": 114,
     "metadata": {},
     "output_type": "execute_result"
    }
   ],
   "source": [
    "kn.fit(X=train_X_3, y=train_y_3)\n",
    "preds = kn.predict(X=test_X_3)\n",
    "# preds\n",
    "adam_y_test = preds[:100]\n",
    "brenda_y_test = preds[100:]\n",
    "actual_values = [0] * 100 + [1] * 100\n",
    "predicted_values = list(preds[:100]) + list(preds[100:])\n",
    "preds_ = kn.predict_proba(test_X_3)[:,1]\n",
    "false_positive_rate, true_positive_rate, threshold = roc_curve(actual_values, preds_)\n",
    "conf_matrix = confusion_matrix(actual_values, predicted_values)\n",
    "conf_matrix"
   ]
  },
  {
   "cell_type": "code",
   "execution_count": 115,
   "metadata": {},
   "outputs": [
    {
     "data": {
      "text/plain": [
       "0.675"
      ]
     },
     "execution_count": 115,
     "metadata": {},
     "output_type": "execute_result"
    }
   ],
   "source": [
    "accuracy(conf_matrix)"
   ]
  },
  {
   "cell_type": "code",
   "execution_count": 116,
   "metadata": {},
   "outputs": [
    {
     "data": {
      "text/plain": [
       "0.56"
      ]
     },
     "execution_count": 116,
     "metadata": {},
     "output_type": "execute_result"
    }
   ],
   "source": [
    "precision(conf_matrix)"
   ]
  },
  {
   "cell_type": "code",
   "execution_count": 117,
   "metadata": {},
   "outputs": [
    {
     "data": {
      "text/plain": [
       "0.7272727272727273"
      ]
     },
     "execution_count": 117,
     "metadata": {},
     "output_type": "execute_result"
    }
   ],
   "source": [
    "recall(conf_matrix)"
   ]
  },
  {
   "cell_type": "code",
   "execution_count": 118,
   "metadata": {},
   "outputs": [
    {
     "data": {
      "text/plain": [
       "0.6422764227642277"
      ]
     },
     "execution_count": 118,
     "metadata": {},
     "output_type": "execute_result"
    }
   ],
   "source": [
    "specificity(conf_matrix)"
   ]
  },
  {
   "cell_type": "code",
   "execution_count": 119,
   "metadata": {},
   "outputs": [
    {
     "data": {
      "text/plain": [
       "0.632768361581921"
      ]
     },
     "execution_count": 119,
     "metadata": {},
     "output_type": "execute_result"
    }
   ],
   "source": [
    "f1(conf_matrix)"
   ]
  },
  {
   "cell_type": "code",
   "execution_count": 120,
   "metadata": {},
   "outputs": [
    {
     "name": "stdout",
     "output_type": "stream",
     "text": [
      "roc_auc_score:  0.7836\n"
     ]
    },
    {
     "data": {
      "image/png": "[encoded data removed]",
      "text/plain": [
       "<Figure size 432x288 with 1 Axes>"
      ]
     },
     "metadata": {
      "needs_background": "light"
     },
     "output_type": "display_data"
    }
   ],
   "source": [
    "print('roc_auc_score: ', roc_auc_score(actual_values, preds_))\n",
    "plot_roc('ROC Curve', false_positive_rate, true_positive_rate)"
   ]
  },
  {
   "cell_type": "code",
   "execution_count": 121,
   "metadata": {
    "scrolled": false
   },
   "outputs": [
    {
     "name": "stdout",
     "output_type": "stream",
     "text": [
      "pr_auc_score:  0.7913595685241804\n"
     ]
    },
    {
     "data": {
      "image/png": "[encoded data removed]",
      "text/plain": [
       "<Figure size 432x288 with 1 Axes>"
      ]
     },
     "metadata": {
      "needs_background": "light"
     },
     "output_type": "display_data"
    }
   ],
   "source": [
    "print('pr_auc_score: ', average_precision_score(actual_values, preds_))\n",
    "plot_pr_curve(actual_values, preds_)"
   ]
  },
  {
   "cell_type": "code",
   "execution_count": 122,
   "metadata": {
    "scrolled": false
   },
   "outputs": [],
   "source": [
    "# compare_predictions_Adam(preds, preds_, actual_values, adam_test_3, df_adam_no_repeats_no_same_up_sampled)"
   ]
  },
  {
   "cell_type": "code",
   "execution_count": 123,
   "metadata": {
    "scrolled": false
   },
   "outputs": [],
   "source": [
    "# compare_predictions_Brenda(preds, preds_, actual_values, brenda_test_3, df_brenda_no_repeats)"
   ]
  },
  {
   "cell_type": "code",
   "execution_count": 124,
   "metadata": {},
   "outputs": [
    {
     "data": {
      "text/plain": [
       "array([[82, 18],\n",
       "       [35, 65]])"
      ]
     },
     "execution_count": 124,
     "metadata": {},
     "output_type": "execute_result"
    }
   ],
   "source": [
    "kn.fit(X=train_X_4, y=train_y_4)\n",
    "preds = kn.predict(X=test_X_4)\n",
    "# preds\n",
    "adam_y_test = preds[:100]\n",
    "brenda_y_test = preds[100:]\n",
    "actual_values = [0] * 100 + [1] * 100\n",
    "predicted_values = list(preds[:100]) + list(preds[100:])\n",
    "preds_ = kn.predict_proba(test_X_4)[:,1]\n",
    "false_positive_rate, true_positive_rate, threshold = roc_curve(actual_values, preds_)\n",
    "conf_matrix = confusion_matrix(actual_values, predicted_values)\n",
    "conf_matrix"
   ]
  },
  {
   "cell_type": "code",
   "execution_count": 125,
   "metadata": {},
   "outputs": [
    {
     "data": {
      "text/plain": [
       "0.735"
      ]
     },
     "execution_count": 125,
     "metadata": {},
     "output_type": "execute_result"
    }
   ],
   "source": [
    "accuracy(conf_matrix)"
   ]
  },
  {
   "cell_type": "code",
   "execution_count": 126,
   "metadata": {},
   "outputs": [
    {
     "data": {
      "text/plain": [
       "0.65"
      ]
     },
     "execution_count": 126,
     "metadata": {},
     "output_type": "execute_result"
    }
   ],
   "source": [
    "precision(conf_matrix)"
   ]
  },
  {
   "cell_type": "code",
   "execution_count": 127,
   "metadata": {},
   "outputs": [
    {
     "data": {
      "text/plain": [
       "0.7831325301204819"
      ]
     },
     "execution_count": 127,
     "metadata": {},
     "output_type": "execute_result"
    }
   ],
   "source": [
    "recall(conf_matrix)"
   ]
  },
  {
   "cell_type": "code",
   "execution_count": 128,
   "metadata": {},
   "outputs": [
    {
     "data": {
      "text/plain": [
       "0.7008547008547008"
      ]
     },
     "execution_count": 128,
     "metadata": {},
     "output_type": "execute_result"
    }
   ],
   "source": [
    "specificity(conf_matrix)"
   ]
  },
  {
   "cell_type": "code",
   "execution_count": 129,
   "metadata": {},
   "outputs": [
    {
     "data": {
      "text/plain": [
       "0.7103825136612022"
      ]
     },
     "execution_count": 129,
     "metadata": {},
     "output_type": "execute_result"
    }
   ],
   "source": [
    "f1(conf_matrix)"
   ]
  },
  {
   "cell_type": "code",
   "execution_count": 130,
   "metadata": {
    "scrolled": true
   },
   "outputs": [
    {
     "name": "stdout",
     "output_type": "stream",
     "text": [
      "roc_auc_score:  0.8268\n"
     ]
    },
    {
     "data": {
      "image/png": "[encoded data removed]",
      "text/plain": [
       "<Figure size 432x288 with 1 Axes>"
      ]
     },
     "metadata": {
      "needs_background": "light"
     },
     "output_type": "display_data"
    }
   ],
   "source": [
    "print('roc_auc_score: ', roc_auc_score(actual_values, preds_))\n",
    "plot_roc('ROC Curve', false_positive_rate, true_positive_rate)"
   ]
  },
  {
   "cell_type": "code",
   "execution_count": 131,
   "metadata": {
    "scrolled": false
   },
   "outputs": [
    {
     "name": "stdout",
     "output_type": "stream",
     "text": [
      "pr_auc_score:  0.7810602932852466\n"
     ]
    },
    {
     "data": {
      "image/png": "[encoded data removed]",
      "text/plain": [
       "<Figure size 432x288 with 1 Axes>"
      ]
     },
     "metadata": {
      "needs_background": "light"
     },
     "output_type": "display_data"
    }
   ],
   "source": [
    "print('pr_auc_score: ', average_precision_score(actual_values, preds_))\n",
    "plot_pr_curve(actual_values, preds_)"
   ]
  },
  {
   "cell_type": "code",
   "execution_count": 132,
   "metadata": {
    "scrolled": false
   },
   "outputs": [],
   "source": [
    "# compare_predictions_Adam(preds, preds_, actual_values, adam_test_4, df_adam_no_repeats_no_same_up_sampled)"
   ]
  },
  {
   "cell_type": "code",
   "execution_count": 133,
   "metadata": {
    "scrolled": false
   },
   "outputs": [],
   "source": [
    "# compare_predictions_Brenda(preds, preds_, actual_values, brenda_test_4, df_brenda_no_repeats)"
   ]
  },
  {
   "cell_type": "code",
   "execution_count": 134,
   "metadata": {},
   "outputs": [
    {
     "data": {
      "text/plain": [
       "array([[88, 12],\n",
       "       [44, 56]])"
      ]
     },
     "execution_count": 134,
     "metadata": {},
     "output_type": "execute_result"
    }
   ],
   "source": [
    "kn.fit(X=train_X_5, y=train_y_5)\n",
    "preds = kn.predict(X=test_X_5)\n",
    "# preds\n",
    "adam_y_test = preds[:100]\n",
    "brenda_y_test = preds[100:]\n",
    "actual_values = [0] * 100 + [1] * 100\n",
    "predicted_values = list(preds[:100]) + list(preds[100:])\n",
    "preds_ = kn.predict_proba(test_X_5)[:,1]\n",
    "false_positive_rate, true_positive_rate, threshold = roc_curve(actual_values, preds_)\n",
    "conf_matrix = confusion_matrix(actual_values, predicted_values)\n",
    "conf_matrix"
   ]
  },
  {
   "cell_type": "code",
   "execution_count": 135,
   "metadata": {},
   "outputs": [
    {
     "data": {
      "text/plain": [
       "0.72"
      ]
     },
     "execution_count": 135,
     "metadata": {},
     "output_type": "execute_result"
    }
   ],
   "source": [
    "accuracy(conf_matrix)"
   ]
  },
  {
   "cell_type": "code",
   "execution_count": 136,
   "metadata": {},
   "outputs": [
    {
     "data": {
      "text/plain": [
       "0.56"
      ]
     },
     "execution_count": 136,
     "metadata": {},
     "output_type": "execute_result"
    }
   ],
   "source": [
    "precision(conf_matrix)"
   ]
  },
  {
   "cell_type": "code",
   "execution_count": 137,
   "metadata": {},
   "outputs": [
    {
     "data": {
      "text/plain": [
       "0.8235294117647058"
      ]
     },
     "execution_count": 137,
     "metadata": {},
     "output_type": "execute_result"
    }
   ],
   "source": [
    "recall(conf_matrix)"
   ]
  },
  {
   "cell_type": "code",
   "execution_count": 138,
   "metadata": {},
   "outputs": [
    {
     "data": {
      "text/plain": [
       "0.6666666666666666"
      ]
     },
     "execution_count": 138,
     "metadata": {},
     "output_type": "execute_result"
    }
   ],
   "source": [
    "specificity(conf_matrix)"
   ]
  },
  {
   "cell_type": "code",
   "execution_count": 139,
   "metadata": {},
   "outputs": [
    {
     "data": {
      "text/plain": [
       "0.6666666666666666"
      ]
     },
     "execution_count": 139,
     "metadata": {},
     "output_type": "execute_result"
    }
   ],
   "source": [
    "f1(conf_matrix)"
   ]
  },
  {
   "cell_type": "code",
   "execution_count": 140,
   "metadata": {
    "scrolled": true
   },
   "outputs": [
    {
     "name": "stdout",
     "output_type": "stream",
     "text": [
      "roc_auc_score:  0.7974\n"
     ]
    },
    {
     "data": {
      "image/png": "[encoded data removed]",
      "text/plain": [
       "<Figure size 432x288 with 1 Axes>"
      ]
     },
     "metadata": {
      "needs_background": "light"
     },
     "output_type": "display_data"
    }
   ],
   "source": [
    "print('roc_auc_score: ', roc_auc_score(actual_values, preds_))\n",
    "plot_roc('ROC Curve', false_positive_rate, true_positive_rate)"
   ]
  },
  {
   "cell_type": "code",
   "execution_count": 141,
   "metadata": {
    "scrolled": false
   },
   "outputs": [
    {
     "name": "stdout",
     "output_type": "stream",
     "text": [
      "pr_auc_score:  0.7956575834197942\n"
     ]
    },
    {
     "data": {
      "image/png": "[encoded data removed]",
      "text/plain": [
       "<Figure size 432x288 with 1 Axes>"
      ]
     },
     "metadata": {
      "needs_background": "light"
     },
     "output_type": "display_data"
    }
   ],
   "source": [
    "print('pr_auc_score: ', average_precision_score(actual_values, preds_))\n",
    "plot_pr_curve(actual_values, preds_)"
   ]
  },
  {
   "cell_type": "code",
   "execution_count": 142,
   "metadata": {
    "scrolled": false
   },
   "outputs": [],
   "source": [
    "# compare_predictions_Adam(preds, preds_, actual_values, adam_test_5, df_adam_no_repeats_no_same_up_sampled)"
   ]
  },
  {
   "cell_type": "code",
   "execution_count": 143,
   "metadata": {
    "scrolled": false
   },
   "outputs": [],
   "source": [
    "# compare_predictions_Brenda(preds, preds_, actual_values, brenda_test_5, df_brenda_no_repeats)"
   ]
  },
  {
   "cell_type": "markdown",
   "metadata": {},
   "source": [
    "### Linear Vector Machine"
   ]
  },
  {
   "cell_type": "code",
   "execution_count": 144,
   "metadata": {},
   "outputs": [],
   "source": [
    "svc = SVC(random_state=42)"
   ]
  },
  {
   "cell_type": "code",
   "execution_count": 145,
   "metadata": {},
   "outputs": [
    {
     "name": "stderr",
     "output_type": "stream",
     "text": [
      "/anaconda3/lib/python3.6/site-packages/sklearn/model_selection/_split.py:2053: FutureWarning: You should specify a value for 'cv' instead of relying on the default value. The default value will change from 3 to 5 in version 0.22.\n",
      "  warnings.warn(CV_WARNING, FutureWarning)\n"
     ]
    },
    {
     "name": "stdout",
     "output_type": "stream",
     "text": [
      "Best Score: 0.7751842751842751\n",
      "Best Hyperparameters: {'C': 1, 'degree': 2, 'gamma': 'scale', 'kernel': 'poly', 'probability': True}\n"
     ]
    },
    {
     "name": "stderr",
     "output_type": "stream",
     "text": [
      "/anaconda3/lib/python3.6/site-packages/sklearn/model_selection/_search.py:841: DeprecationWarning: The default of the `iid` parameter will change from True to False in version 0.22 and will be removed in 0.24. This will change numeric results when test-set sizes are unequal.\n",
      "  DeprecationWarning)\n"
     ]
    }
   ],
   "source": [
    "# define search space\n",
    "space = dict()\n",
    "\n",
    "space['C'] = [.1,1,3,5,7,9,10,11,12]\n",
    "space['kernel'] = ['linear', 'poly', 'rbf', 'sigmoid']\n",
    "space['degree'] = [1,2,3,4]\n",
    "space['gamma'] = ['scale', 'auto']\n",
    "space['probability'] = [True, False]\n",
    "search = GridSearchCV(svc, space, scoring='accuracy')\n",
    "\n",
    "# execute search\n",
    "result = search.fit(X=train_X_1, y=train_y_1)\n",
    "# summarize result\n",
    "print('Best Score: %s' % result.best_score_)\n",
    "print('Best Hyperparameters: %s' % result.best_params_)"
   ]
  },
  {
   "cell_type": "code",
   "execution_count": 146,
   "metadata": {},
   "outputs": [],
   "source": [
    "svc = SVC(random_state=42,\n",
    "          C=1,\n",
    "          degree=2,\n",
    "          gamma='scale',\n",
    "          kernel='poly',\n",
    "          probability=True)"
   ]
  },
  {
   "cell_type": "code",
   "execution_count": 147,
   "metadata": {},
   "outputs": [
    {
     "data": {
      "text/plain": [
       "array([[84, 16],\n",
       "       [32, 68]])"
      ]
     },
     "execution_count": 147,
     "metadata": {},
     "output_type": "execute_result"
    }
   ],
   "source": [
    "svc.fit(X=train_X_1, y=train_y_1)\n",
    "preds = svc.predict(X=test_X_1)\n",
    "adam_y_test = preds[:100]\n",
    "brenda_y_test = preds[100:]\n",
    "actual_values = [0] * 100 + [1] * 100\n",
    "predicted_values = list(preds[:100]) + list(preds[100:])\n",
    "preds_ = svc.predict_proba(test_X_1)[:,1]\n",
    "false_positive_rate, true_positive_rate, threshold = roc_curve(actual_values, preds_)\n",
    "# in binary classification, \n",
    "# the count of true negatives is C_00,\n",
    "# false negatives is C_10,\n",
    "# true positives is  C_11, \n",
    "# and false positives is C_01.\n",
    "conf_matrix = confusion_matrix(actual_values, predicted_values)\n",
    "conf_matrix"
   ]
  },
  {
   "cell_type": "code",
   "execution_count": 148,
   "metadata": {},
   "outputs": [
    {
     "data": {
      "text/plain": [
       "0.76"
      ]
     },
     "execution_count": 148,
     "metadata": {},
     "output_type": "execute_result"
    }
   ],
   "source": [
    "accuracy(conf_matrix)"
   ]
  },
  {
   "cell_type": "code",
   "execution_count": 149,
   "metadata": {},
   "outputs": [
    {
     "data": {
      "text/plain": [
       "0.68"
      ]
     },
     "execution_count": 149,
     "metadata": {},
     "output_type": "execute_result"
    }
   ],
   "source": [
    "precision(conf_matrix)"
   ]
  },
  {
   "cell_type": "code",
   "execution_count": 150,
   "metadata": {},
   "outputs": [
    {
     "data": {
      "text/plain": [
       "0.8095238095238095"
      ]
     },
     "execution_count": 150,
     "metadata": {},
     "output_type": "execute_result"
    }
   ],
   "source": [
    "recall(conf_matrix)"
   ]
  },
  {
   "cell_type": "code",
   "execution_count": 151,
   "metadata": {},
   "outputs": [
    {
     "data": {
      "text/plain": [
       "0.7241379310344828"
      ]
     },
     "execution_count": 151,
     "metadata": {},
     "output_type": "execute_result"
    }
   ],
   "source": [
    "specificity(conf_matrix)"
   ]
  },
  {
   "cell_type": "code",
   "execution_count": 152,
   "metadata": {},
   "outputs": [
    {
     "data": {
      "text/plain": [
       "0.7391304347826089"
      ]
     },
     "execution_count": 152,
     "metadata": {},
     "output_type": "execute_result"
    }
   ],
   "source": [
    "f1(conf_matrix)"
   ]
  },
  {
   "cell_type": "code",
   "execution_count": 153,
   "metadata": {
    "scrolled": true
   },
   "outputs": [
    {
     "name": "stdout",
     "output_type": "stream",
     "text": [
      "roc_auc_score:  0.8467\n"
     ]
    },
    {
     "data": {
      "image/png": "[encoded data removed]",
      "text/plain": [
       "<Figure size 432x288 with 1 Axes>"
      ]
     },
     "metadata": {
      "needs_background": "light"
     },
     "output_type": "display_data"
    }
   ],
   "source": [
    "print('roc_auc_score: ', roc_auc_score(actual_values, preds_))\n",
    "plot_roc('ROC Curve', false_positive_rate, true_positive_rate)"
   ]
  },
  {
   "cell_type": "code",
   "execution_count": 154,
   "metadata": {
    "scrolled": false
   },
   "outputs": [
    {
     "name": "stdout",
     "output_type": "stream",
     "text": [
      "pr_auc_score:  0.8593297525933135\n"
     ]
    },
    {
     "data": {
      "image/png": "[encoded data removed]",
      "text/plain": [
       "<Figure size 432x288 with 1 Axes>"
      ]
     },
     "metadata": {
      "needs_background": "light"
     },
     "output_type": "display_data"
    }
   ],
   "source": [
    "print('pr_auc_score: ', average_precision_score(actual_values, preds_))\n",
    "plot_pr_curve(actual_values, preds_)"
   ]
  },
  {
   "cell_type": "code",
   "execution_count": 155,
   "metadata": {
    "scrolled": false
   },
   "outputs": [],
   "source": [
    "# compare_predictions_Adam(preds, preds_, actual_values, adam_test_1, df_adam_no_repeats_no_same_up_sampled)"
   ]
  },
  {
   "cell_type": "code",
   "execution_count": 156,
   "metadata": {
    "scrolled": false
   },
   "outputs": [],
   "source": [
    "# compare_predictions_Brenda(preds, preds_, actual_values, brenda_test_1, df_brenda_no_repeats)"
   ]
  },
  {
   "cell_type": "code",
   "execution_count": 157,
   "metadata": {},
   "outputs": [
    {
     "data": {
      "text/plain": [
       "array([[86, 14],\n",
       "       [26, 74]])"
      ]
     },
     "execution_count": 157,
     "metadata": {},
     "output_type": "execute_result"
    }
   ],
   "source": [
    "svc.fit(X=train_X_2, y=train_y_2)\n",
    "preds = svc.predict(X=test_X_2)\n",
    "adam_y_test = preds[:100]\n",
    "brenda_y_test = preds[100:]\n",
    "actual_values = [0] * 100 + [1] * 100\n",
    "predicted_values = list(preds[:100]) + list(preds[100:])\n",
    "preds_ = svc.predict_proba(test_X_2)[:,1]\n",
    "false_positive_rate, true_positive_rate, threshold = roc_curve(actual_values, preds_)\n",
    "conf_matrix = confusion_matrix(actual_values, predicted_values)\n",
    "conf_matrix"
   ]
  },
  {
   "cell_type": "code",
   "execution_count": 158,
   "metadata": {},
   "outputs": [
    {
     "data": {
      "text/plain": [
       "0.8"
      ]
     },
     "execution_count": 158,
     "metadata": {},
     "output_type": "execute_result"
    }
   ],
   "source": [
    "accuracy(conf_matrix)"
   ]
  },
  {
   "cell_type": "code",
   "execution_count": 159,
   "metadata": {},
   "outputs": [
    {
     "data": {
      "text/plain": [
       "0.74"
      ]
     },
     "execution_count": 159,
     "metadata": {},
     "output_type": "execute_result"
    }
   ],
   "source": [
    "precision(conf_matrix)"
   ]
  },
  {
   "cell_type": "code",
   "execution_count": 160,
   "metadata": {},
   "outputs": [
    {
     "data": {
      "text/plain": [
       "0.8409090909090909"
      ]
     },
     "execution_count": 160,
     "metadata": {},
     "output_type": "execute_result"
    }
   ],
   "source": [
    "recall(conf_matrix)"
   ]
  },
  {
   "cell_type": "code",
   "execution_count": 161,
   "metadata": {},
   "outputs": [
    {
     "data": {
      "text/plain": [
       "0.7678571428571429"
      ]
     },
     "execution_count": 161,
     "metadata": {},
     "output_type": "execute_result"
    }
   ],
   "source": [
    "specificity(conf_matrix)"
   ]
  },
  {
   "cell_type": "code",
   "execution_count": 162,
   "metadata": {},
   "outputs": [
    {
     "data": {
      "text/plain": [
       "0.7872340425531915"
      ]
     },
     "execution_count": 162,
     "metadata": {},
     "output_type": "execute_result"
    }
   ],
   "source": [
    "f1(conf_matrix)"
   ]
  },
  {
   "cell_type": "code",
   "execution_count": 163,
   "metadata": {
    "scrolled": true
   },
   "outputs": [
    {
     "name": "stdout",
     "output_type": "stream",
     "text": [
      "roc_auc_score:  0.8946000000000001\n"
     ]
    },
    {
     "data": {
      "image/png": "[encoded data removed]",
      "text/plain": [
       "<Figure size 432x288 with 1 Axes>"
      ]
     },
     "metadata": {
      "needs_background": "light"
     },
     "output_type": "display_data"
    }
   ],
   "source": [
    "print('roc_auc_score: ', roc_auc_score(actual_values, preds_))\n",
    "plot_roc('ROC Curve', false_positive_rate, true_positive_rate)"
   ]
  },
  {
   "cell_type": "code",
   "execution_count": 164,
   "metadata": {
    "scrolled": false
   },
   "outputs": [
    {
     "name": "stdout",
     "output_type": "stream",
     "text": [
      "pr_auc_score:  0.8888952634136842\n"
     ]
    },
    {
     "data": {
      "image/png": "[encoded data removed]",
      "text/plain": [
       "<Figure size 432x288 with 1 Axes>"
      ]
     },
     "metadata": {
      "needs_background": "light"
     },
     "output_type": "display_data"
    }
   ],
   "source": [
    "print('pr_auc_score: ', average_precision_score(actual_values, preds_))\n",
    "plot_pr_curve(actual_values, preds_)"
   ]
  },
  {
   "cell_type": "code",
   "execution_count": 165,
   "metadata": {
    "scrolled": false
   },
   "outputs": [],
   "source": [
    "# compare_predictions_Adam(preds, preds_, actual_values, adam_test_2, df_adam_no_repeats_no_same_up_sampled)"
   ]
  },
  {
   "cell_type": "code",
   "execution_count": 166,
   "metadata": {
    "scrolled": false
   },
   "outputs": [],
   "source": [
    "# compare_predictions_Brenda(preds, preds_, actual_values, brenda_test_2, df_brenda_no_repeats)"
   ]
  },
  {
   "cell_type": "code",
   "execution_count": 167,
   "metadata": {},
   "outputs": [
    {
     "data": {
      "text/plain": [
       "array([[78, 22],\n",
       "       [27, 73]])"
      ]
     },
     "execution_count": 167,
     "metadata": {},
     "output_type": "execute_result"
    }
   ],
   "source": [
    "svc.fit(X=train_X_3, y=train_y_3)\n",
    "preds = svc.predict(X=test_X_3)\n",
    "adam_y_test = preds[:100]\n",
    "brenda_y_test = preds[100:]\n",
    "actual_values = [0] * 100 + [1] * 100\n",
    "predicted_values = list(preds[:100]) + list(preds[100:])\n",
    "preds_ = svc.predict_proba(test_X_3)[:,1]\n",
    "false_positive_rate, true_positive_rate, threshold = roc_curve(actual_values, preds_)\n",
    "conf_matrix = confusion_matrix(actual_values, predicted_values)\n",
    "conf_matrix"
   ]
  },
  {
   "cell_type": "code",
   "execution_count": 168,
   "metadata": {},
   "outputs": [
    {
     "data": {
      "text/plain": [
       "0.755"
      ]
     },
     "execution_count": 168,
     "metadata": {},
     "output_type": "execute_result"
    }
   ],
   "source": [
    "accuracy(conf_matrix)"
   ]
  },
  {
   "cell_type": "code",
   "execution_count": 169,
   "metadata": {},
   "outputs": [
    {
     "data": {
      "text/plain": [
       "0.73"
      ]
     },
     "execution_count": 169,
     "metadata": {},
     "output_type": "execute_result"
    }
   ],
   "source": [
    "precision(conf_matrix)"
   ]
  },
  {
   "cell_type": "code",
   "execution_count": 170,
   "metadata": {},
   "outputs": [
    {
     "data": {
      "text/plain": [
       "0.7684210526315789"
      ]
     },
     "execution_count": 170,
     "metadata": {},
     "output_type": "execute_result"
    }
   ],
   "source": [
    "recall(conf_matrix)"
   ]
  },
  {
   "cell_type": "code",
   "execution_count": 171,
   "metadata": {},
   "outputs": [
    {
     "data": {
      "text/plain": [
       "0.7428571428571429"
      ]
     },
     "execution_count": 171,
     "metadata": {},
     "output_type": "execute_result"
    }
   ],
   "source": [
    "specificity(conf_matrix)"
   ]
  },
  {
   "cell_type": "code",
   "execution_count": 172,
   "metadata": {},
   "outputs": [
    {
     "data": {
      "text/plain": [
       "0.7487179487179486"
      ]
     },
     "execution_count": 172,
     "metadata": {},
     "output_type": "execute_result"
    }
   ],
   "source": [
    "f1(conf_matrix)"
   ]
  },
  {
   "cell_type": "code",
   "execution_count": 173,
   "metadata": {},
   "outputs": [
    {
     "name": "stdout",
     "output_type": "stream",
     "text": [
      "roc_auc_score:  0.8214\n"
     ]
    },
    {
     "data": {
      "image/png": "[encoded data removed]",
      "text/plain": [
       "<Figure size 432x288 with 1 Axes>"
      ]
     },
     "metadata": {
      "needs_background": "light"
     },
     "output_type": "display_data"
    }
   ],
   "source": [
    "print('roc_auc_score: ', roc_auc_score(actual_values, preds_))\n",
    "plot_roc('ROC Curve', false_positive_rate, true_positive_rate)"
   ]
  },
  {
   "cell_type": "code",
   "execution_count": 174,
   "metadata": {
    "scrolled": false
   },
   "outputs": [
    {
     "name": "stdout",
     "output_type": "stream",
     "text": [
      "pr_auc_score:  0.8183256881933391\n"
     ]
    },
    {
     "data": {
      "image/png": "[encoded data removed]",
      "text/plain": [
       "<Figure size 432x288 with 1 Axes>"
      ]
     },
     "metadata": {
      "needs_background": "light"
     },
     "output_type": "display_data"
    }
   ],
   "source": [
    "print('pr_auc_score: ', average_precision_score(actual_values, preds_))\n",
    "plot_pr_curve(actual_values, preds_)"
   ]
  },
  {
   "cell_type": "code",
   "execution_count": 175,
   "metadata": {
    "scrolled": false
   },
   "outputs": [],
   "source": [
    "# compare_predictions_Adam(preds, preds_, actual_values, adam_test_3, df_adam_no_repeats_no_same_up_sampled)"
   ]
  },
  {
   "cell_type": "code",
   "execution_count": 176,
   "metadata": {
    "scrolled": false
   },
   "outputs": [],
   "source": [
    "# compare_predictions_Brenda(preds, preds_, actual_values, brenda_test_3, df_brenda_no_repeats)"
   ]
  },
  {
   "cell_type": "code",
   "execution_count": 177,
   "metadata": {},
   "outputs": [
    {
     "data": {
      "text/plain": [
       "array([[80, 20],\n",
       "       [19, 81]])"
      ]
     },
     "execution_count": 177,
     "metadata": {},
     "output_type": "execute_result"
    }
   ],
   "source": [
    "svc.fit(X=train_X_4, y=train_y_4)\n",
    "preds = svc.predict(X=test_X_4)\n",
    "adam_y_test = preds[:100]\n",
    "brenda_y_test = preds[100:]\n",
    "actual_values = [0] * 100 + [1] * 100\n",
    "predicted_values = list(preds[:100]) + list(preds[100:])\n",
    "preds_ = svc.predict_proba(test_X_4)[:,1]\n",
    "false_positive_rate, true_positive_rate, threshold = roc_curve(actual_values, preds_)\n",
    "conf_matrix = confusion_matrix(actual_values, predicted_values)\n",
    "conf_matrix"
   ]
  },
  {
   "cell_type": "code",
   "execution_count": 178,
   "metadata": {},
   "outputs": [
    {
     "data": {
      "text/plain": [
       "0.805"
      ]
     },
     "execution_count": 178,
     "metadata": {},
     "output_type": "execute_result"
    }
   ],
   "source": [
    "accuracy(conf_matrix)"
   ]
  },
  {
   "cell_type": "code",
   "execution_count": 179,
   "metadata": {},
   "outputs": [
    {
     "data": {
      "text/plain": [
       "0.81"
      ]
     },
     "execution_count": 179,
     "metadata": {},
     "output_type": "execute_result"
    }
   ],
   "source": [
    "precision(conf_matrix)"
   ]
  },
  {
   "cell_type": "code",
   "execution_count": 180,
   "metadata": {},
   "outputs": [
    {
     "data": {
      "text/plain": [
       "0.801980198019802"
      ]
     },
     "execution_count": 180,
     "metadata": {},
     "output_type": "execute_result"
    }
   ],
   "source": [
    "recall(conf_matrix)"
   ]
  },
  {
   "cell_type": "code",
   "execution_count": 181,
   "metadata": {},
   "outputs": [
    {
     "data": {
      "text/plain": [
       "0.8080808080808081"
      ]
     },
     "execution_count": 181,
     "metadata": {},
     "output_type": "execute_result"
    }
   ],
   "source": [
    "specificity(conf_matrix)"
   ]
  },
  {
   "cell_type": "code",
   "execution_count": 182,
   "metadata": {},
   "outputs": [
    {
     "data": {
      "text/plain": [
       "0.8059701492537314"
      ]
     },
     "execution_count": 182,
     "metadata": {},
     "output_type": "execute_result"
    }
   ],
   "source": [
    "f1(conf_matrix)"
   ]
  },
  {
   "cell_type": "code",
   "execution_count": 183,
   "metadata": {},
   "outputs": [
    {
     "name": "stdout",
     "output_type": "stream",
     "text": [
      "roc_auc_score:  0.8514999999999999\n"
     ]
    },
    {
     "data": {
      "image/png": "[encoded data removed]",
      "text/plain": [
       "<Figure size 432x288 with 1 Axes>"
      ]
     },
     "metadata": {
      "needs_background": "light"
     },
     "output_type": "display_data"
    }
   ],
   "source": [
    "print('roc_auc_score: ', roc_auc_score(actual_values, preds_))\n",
    "plot_roc('ROC Curve', false_positive_rate, true_positive_rate)"
   ]
  },
  {
   "cell_type": "code",
   "execution_count": 184,
   "metadata": {
    "scrolled": false
   },
   "outputs": [
    {
     "name": "stdout",
     "output_type": "stream",
     "text": [
      "pr_auc_score:  0.8192342891032018\n"
     ]
    },
    {
     "data": {
      "image/png": "[encoded data removed]",
      "text/plain": [
       "<Figure size 432x288 with 1 Axes>"
      ]
     },
     "metadata": {
      "needs_background": "light"
     },
     "output_type": "display_data"
    }
   ],
   "source": [
    "print('pr_auc_score: ', average_precision_score(actual_values, preds_))\n",
    "plot_pr_curve(actual_values, preds_)"
   ]
  },
  {
   "cell_type": "code",
   "execution_count": 185,
   "metadata": {
    "scrolled": false
   },
   "outputs": [],
   "source": [
    "# compare_predictions_Adam(preds, preds_, actual_values, adam_test_4, df_adam_no_repeats_no_same_up_sampled)"
   ]
  },
  {
   "cell_type": "code",
   "execution_count": 186,
   "metadata": {
    "scrolled": false
   },
   "outputs": [],
   "source": [
    "# compare_predictions_Brenda(preds, preds_, actual_values, brenda_test_4, df_brenda_no_repeats)"
   ]
  },
  {
   "cell_type": "code",
   "execution_count": 187,
   "metadata": {},
   "outputs": [
    {
     "data": {
      "text/plain": [
       "array([[75, 25],\n",
       "       [19, 81]])"
      ]
     },
     "execution_count": 187,
     "metadata": {},
     "output_type": "execute_result"
    }
   ],
   "source": [
    "svc.fit(X=train_X_5, y=train_y_5)\n",
    "preds = svc.predict(X=test_X_5)\n",
    "adam_y_test = preds[:100]\n",
    "brenda_y_test = preds[100:]\n",
    "actual_values = [0] * 100 + [1] * 100\n",
    "predicted_values = list(preds[:100]) + list(preds[100:])\n",
    "preds_ = svc.predict_proba(test_X_5)[:,1]\n",
    "false_positive_rate, true_positive_rate, threshold = roc_curve(actual_values, preds_)\n",
    "conf_matrix = confusion_matrix(actual_values, predicted_values)\n",
    "conf_matrix"
   ]
  },
  {
   "cell_type": "code",
   "execution_count": 188,
   "metadata": {},
   "outputs": [
    {
     "data": {
      "text/plain": [
       "0.78"
      ]
     },
     "execution_count": 188,
     "metadata": {},
     "output_type": "execute_result"
    }
   ],
   "source": [
    "accuracy(conf_matrix)"
   ]
  },
  {
   "cell_type": "code",
   "execution_count": 189,
   "metadata": {},
   "outputs": [
    {
     "data": {
      "text/plain": [
       "0.81"
      ]
     },
     "execution_count": 189,
     "metadata": {},
     "output_type": "execute_result"
    }
   ],
   "source": [
    "precision(conf_matrix)"
   ]
  },
  {
   "cell_type": "code",
   "execution_count": 190,
   "metadata": {},
   "outputs": [
    {
     "data": {
      "text/plain": [
       "0.7641509433962265"
      ]
     },
     "execution_count": 190,
     "metadata": {},
     "output_type": "execute_result"
    }
   ],
   "source": [
    "recall(conf_matrix)"
   ]
  },
  {
   "cell_type": "code",
   "execution_count": 191,
   "metadata": {},
   "outputs": [
    {
     "data": {
      "text/plain": [
       "0.7978723404255319"
      ]
     },
     "execution_count": 191,
     "metadata": {},
     "output_type": "execute_result"
    }
   ],
   "source": [
    "specificity(conf_matrix)"
   ]
  },
  {
   "cell_type": "code",
   "execution_count": 192,
   "metadata": {},
   "outputs": [
    {
     "data": {
      "text/plain": [
       "0.7864077669902914"
      ]
     },
     "execution_count": 192,
     "metadata": {},
     "output_type": "execute_result"
    }
   ],
   "source": [
    "f1(conf_matrix)"
   ]
  },
  {
   "cell_type": "code",
   "execution_count": 193,
   "metadata": {},
   "outputs": [
    {
     "name": "stdout",
     "output_type": "stream",
     "text": [
      "roc_auc_score:  0.8524\n"
     ]
    },
    {
     "data": {
      "image/png": "[encoded data removed]",
      "text/plain": [
       "<Figure size 432x288 with 1 Axes>"
      ]
     },
     "metadata": {
      "needs_background": "light"
     },
     "output_type": "display_data"
    }
   ],
   "source": [
    "print('roc_auc_score: ', roc_auc_score(actual_values, preds_))\n",
    "plot_roc('ROC Curve', false_positive_rate, true_positive_rate)"
   ]
  },
  {
   "cell_type": "code",
   "execution_count": 194,
   "metadata": {
    "scrolled": false
   },
   "outputs": [
    {
     "name": "stdout",
     "output_type": "stream",
     "text": [
      "pr_auc_score:  0.8731752668573725\n"
     ]
    },
    {
     "data": {
      "image/png": "[encoded data removed]",
      "text/plain": [
       "<Figure size 432x288 with 1 Axes>"
      ]
     },
     "metadata": {
      "needs_background": "light"
     },
     "output_type": "display_data"
    }
   ],
   "source": [
    "print('pr_auc_score: ', average_precision_score(actual_values, preds_))\n",
    "plot_pr_curve(actual_values, preds_)"
   ]
  },
  {
   "cell_type": "code",
   "execution_count": 195,
   "metadata": {
    "scrolled": false
   },
   "outputs": [],
   "source": [
    "# compare_predictions_Adam(preds, preds_, actual_values, adam_test_5, df_adam_no_repeats_no_same_up_sampled)"
   ]
  },
  {
   "cell_type": "code",
   "execution_count": 196,
   "metadata": {
    "scrolled": false
   },
   "outputs": [],
   "source": [
    "# compare_predictions_Brenda(preds, preds_, actual_values, brenda_test_5, df_brenda_no_repeats)"
   ]
  },
  {
   "cell_type": "markdown",
   "metadata": {},
   "source": [
    "### Decision tree"
   ]
  },
  {
   "cell_type": "code",
   "execution_count": 197,
   "metadata": {},
   "outputs": [],
   "source": [
    "dt = DecisionTreeClassifier(random_state=42)"
   ]
  },
  {
   "cell_type": "code",
   "execution_count": 198,
   "metadata": {},
   "outputs": [
    {
     "name": "stdout",
     "output_type": "stream",
     "text": [
      "Best Score: 0.7641277641277642\n",
      "Best Hyperparameters: {'criterion': 'gini', 'max_depth': 12, 'min_samples_leaf': 1, 'min_samples_split': 5, 'splitter': 'best'}\n"
     ]
    },
    {
     "name": "stderr",
     "output_type": "stream",
     "text": [
      "/anaconda3/lib/python3.6/site-packages/sklearn/model_selection/_search.py:841: DeprecationWarning: The default of the `iid` parameter will change from True to False in version 0.22 and will be removed in 0.24. This will change numeric results when test-set sizes are unequal.\n",
      "  DeprecationWarning)\n"
     ]
    }
   ],
   "source": [
    "# define search space\n",
    "space = dict()\n",
    "\n",
    "space['criterion'] = ['gini', 'entropy']\n",
    "space['splitter'] = ['best', 'random']\n",
    "space['max_depth'] = [1,2,3,4,5,8,10, 12, 15]\n",
    "space['min_samples_split'] = [2,5,10,15,20,25,30,35,40]\n",
    "space['min_samples_leaf'] = [1,2,3,4,5,8,10,12,15]\n",
    "\n",
    "cv = RepeatedStratifiedKFold(n_splits=5, n_repeats=1, random_state=42)\n",
    "\n",
    "# define search\n",
    "search = GridSearchCV(dt, space, scoring='accuracy', cv=cv)\n",
    "\n",
    "# execute search\n",
    "result = search.fit(X=train_X_1, y=train_y_1)\n",
    "# summarize result\n",
    "print('Best Score: %s' % result.best_score_)\n",
    "print('Best Hyperparameters: %s' % result.best_params_)"
   ]
  },
  {
   "cell_type": "code",
   "execution_count": 199,
   "metadata": {},
   "outputs": [],
   "source": [
    "dt = DecisionTreeClassifier(random_state=42,\n",
    "                            criterion='gini',\n",
    "                            max_depth=12, \n",
    "                            min_samples_leaf=1,\n",
    "                            min_samples_split=5,\n",
    "                            splitter='best')"
   ]
  },
  {
   "cell_type": "code",
   "execution_count": 200,
   "metadata": {},
   "outputs": [
    {
     "data": {
      "text/plain": [
       "array([[78, 22],\n",
       "       [36, 64]])"
      ]
     },
     "execution_count": 200,
     "metadata": {},
     "output_type": "execute_result"
    }
   ],
   "source": [
    "dt.fit(X=train_X_1, y=train_y_1)\n",
    "preds = dt.predict(X=test_X_1)\n",
    "adam_y_test = preds[:100]\n",
    "brenda_y_test = preds[100:]\n",
    "actual_values = [0] * 100 + [1] * 100\n",
    "predicted_values = list(preds[:100]) + list(preds[100:])\n",
    "preds_ = dt.predict_proba(test_X_1)[:,1]\n",
    "false_positive_rate, true_positive_rate, threshold = roc_curve(actual_values, preds_)\n",
    "# in binary classification, \n",
    "# the count of true negatives is C_00,\n",
    "# false negatives is C_10,\n",
    "# true positives is  C_11, \n",
    "# and false positives is C_01.\n",
    "conf_matrix = confusion_matrix(actual_values, predicted_values)\n",
    "conf_matrix"
   ]
  },
  {
   "cell_type": "code",
   "execution_count": 201,
   "metadata": {},
   "outputs": [
    {
     "data": {
      "text/plain": [
       "0.71"
      ]
     },
     "execution_count": 201,
     "metadata": {},
     "output_type": "execute_result"
    }
   ],
   "source": [
    "accuracy(conf_matrix)"
   ]
  },
  {
   "cell_type": "code",
   "execution_count": 202,
   "metadata": {},
   "outputs": [
    {
     "data": {
      "text/plain": [
       "0.64"
      ]
     },
     "execution_count": 202,
     "metadata": {},
     "output_type": "execute_result"
    }
   ],
   "source": [
    "precision(conf_matrix)"
   ]
  },
  {
   "cell_type": "code",
   "execution_count": 203,
   "metadata": {},
   "outputs": [
    {
     "data": {
      "text/plain": [
       "0.7441860465116279"
      ]
     },
     "execution_count": 203,
     "metadata": {},
     "output_type": "execute_result"
    }
   ],
   "source": [
    "recall(conf_matrix)"
   ]
  },
  {
   "cell_type": "code",
   "execution_count": 204,
   "metadata": {},
   "outputs": [
    {
     "data": {
      "text/plain": [
       "0.6842105263157895"
      ]
     },
     "execution_count": 204,
     "metadata": {},
     "output_type": "execute_result"
    }
   ],
   "source": [
    "specificity(conf_matrix)"
   ]
  },
  {
   "cell_type": "code",
   "execution_count": 205,
   "metadata": {},
   "outputs": [
    {
     "data": {
      "text/plain": [
       "0.6881720430107526"
      ]
     },
     "execution_count": 205,
     "metadata": {},
     "output_type": "execute_result"
    }
   ],
   "source": [
    "f1(conf_matrix)"
   ]
  },
  {
   "cell_type": "code",
   "execution_count": 206,
   "metadata": {
    "scrolled": true
   },
   "outputs": [
    {
     "name": "stdout",
     "output_type": "stream",
     "text": [
      "roc_auc_score:  0.72255\n"
     ]
    },
    {
     "data": {
      "image/png": "[encoded data removed]",
      "text/plain": [
       "<Figure size 432x288 with 1 Axes>"
      ]
     },
     "metadata": {
      "needs_background": "light"
     },
     "output_type": "display_data"
    }
   ],
   "source": [
    "print('roc_auc_score: ', roc_auc_score(actual_values, preds_))\n",
    "plot_roc('ROC Curve', false_positive_rate, true_positive_rate)"
   ]
  },
  {
   "cell_type": "code",
   "execution_count": 207,
   "metadata": {
    "scrolled": false
   },
   "outputs": [
    {
     "name": "stdout",
     "output_type": "stream",
     "text": [
      "pr_auc_score:  0.6750764509779712\n"
     ]
    },
    {
     "data": {
      "image/png": "[encoded data removed]",
      "text/plain": [
       "<Figure size 432x288 with 1 Axes>"
      ]
     },
     "metadata": {
      "needs_background": "light"
     },
     "output_type": "display_data"
    }
   ],
   "source": [
    "print('pr_auc_score: ', average_precision_score(actual_values, preds_))\n",
    "plot_pr_curve(actual_values, preds_)"
   ]
  },
  {
   "cell_type": "code",
   "execution_count": 208,
   "metadata": {
    "scrolled": false
   },
   "outputs": [],
   "source": [
    "# compare_predictions_Adam(preds, preds_, actual_values, adam_test_1, df_adam_no_repeats_no_same_up_sampled)"
   ]
  },
  {
   "cell_type": "code",
   "execution_count": 209,
   "metadata": {
    "scrolled": false
   },
   "outputs": [],
   "source": [
    "# compare_predictions_Brenda(preds, preds_, actual_values, brenda_test_1, df_brenda_no_repeats)"
   ]
  },
  {
   "cell_type": "code",
   "execution_count": 210,
   "metadata": {},
   "outputs": [
    {
     "data": {
      "text/plain": [
       "array([[78, 22],\n",
       "       [31, 69]])"
      ]
     },
     "execution_count": 210,
     "metadata": {},
     "output_type": "execute_result"
    }
   ],
   "source": [
    "dt.fit(X=train_X_2, y=train_y_2)\n",
    "preds = dt.predict(X=test_X_2)\n",
    "# preds\n",
    "adam_y_test = preds[:100]\n",
    "brenda_y_test = preds[100:]\n",
    "actual_values = [0] * 100 + [1] * 100\n",
    "predicted_values = list(preds[:100]) + list(preds[100:])\n",
    "preds_ = dt.predict_proba(test_X_2)[:,1]\n",
    "false_positive_rate, true_positive_rate, threshold = roc_curve(actual_values, preds_)\n",
    "conf_matrix = confusion_matrix(actual_values, predicted_values)\n",
    "conf_matrix"
   ]
  },
  {
   "cell_type": "code",
   "execution_count": 211,
   "metadata": {},
   "outputs": [
    {
     "data": {
      "text/plain": [
       "0.735"
      ]
     },
     "execution_count": 211,
     "metadata": {},
     "output_type": "execute_result"
    }
   ],
   "source": [
    "accuracy(conf_matrix)"
   ]
  },
  {
   "cell_type": "code",
   "execution_count": 212,
   "metadata": {},
   "outputs": [
    {
     "data": {
      "text/plain": [
       "0.69"
      ]
     },
     "execution_count": 212,
     "metadata": {},
     "output_type": "execute_result"
    }
   ],
   "source": [
    "precision(conf_matrix)"
   ]
  },
  {
   "cell_type": "code",
   "execution_count": 213,
   "metadata": {},
   "outputs": [
    {
     "data": {
      "text/plain": [
       "0.7582417582417582"
      ]
     },
     "execution_count": 213,
     "metadata": {},
     "output_type": "execute_result"
    }
   ],
   "source": [
    "recall(conf_matrix)"
   ]
  },
  {
   "cell_type": "code",
   "execution_count": 214,
   "metadata": {},
   "outputs": [
    {
     "data": {
      "text/plain": [
       "0.7155963302752294"
      ]
     },
     "execution_count": 214,
     "metadata": {},
     "output_type": "execute_result"
    }
   ],
   "source": [
    "specificity(conf_matrix)"
   ]
  },
  {
   "cell_type": "code",
   "execution_count": 215,
   "metadata": {},
   "outputs": [
    {
     "data": {
      "text/plain": [
       "0.7225130890052356"
      ]
     },
     "execution_count": 215,
     "metadata": {},
     "output_type": "execute_result"
    }
   ],
   "source": [
    "f1(conf_matrix)"
   ]
  },
  {
   "cell_type": "code",
   "execution_count": 216,
   "metadata": {
    "scrolled": true
   },
   "outputs": [
    {
     "name": "stdout",
     "output_type": "stream",
     "text": [
      "roc_auc_score:  0.7359\n"
     ]
    },
    {
     "data": {
      "image/png": "[encoded data removed]",
      "text/plain": [
       "<Figure size 432x288 with 1 Axes>"
      ]
     },
     "metadata": {
      "needs_background": "light"
     },
     "output_type": "display_data"
    }
   ],
   "source": [
    "print('roc_auc_score: ', roc_auc_score(actual_values, preds_))\n",
    "plot_roc('ROC Curve', false_positive_rate, true_positive_rate)"
   ]
  },
  {
   "cell_type": "code",
   "execution_count": 217,
   "metadata": {
    "scrolled": false
   },
   "outputs": [
    {
     "name": "stdout",
     "output_type": "stream",
     "text": [
      "pr_auc_score:  0.67282694436233\n"
     ]
    },
    {
     "data": {
      "image/png": "[encoded data removed]",
      "text/plain": [
       "<Figure size 432x288 with 1 Axes>"
      ]
     },
     "metadata": {
      "needs_background": "light"
     },
     "output_type": "display_data"
    }
   ],
   "source": [
    "print('pr_auc_score: ', average_precision_score(actual_values, preds_))\n",
    "plot_pr_curve(actual_values, preds_)"
   ]
  },
  {
   "cell_type": "code",
   "execution_count": 218,
   "metadata": {
    "scrolled": false
   },
   "outputs": [],
   "source": [
    "# compare_predictions_Adam(preds, preds_, actual_values, adam_test_2, df_adam_no_repeats_no_same_up_sampled)"
   ]
  },
  {
   "cell_type": "code",
   "execution_count": 219,
   "metadata": {
    "scrolled": false
   },
   "outputs": [],
   "source": [
    "# compare_predictions_Brenda(preds, preds_, actual_values, brenda_test_2, df_brenda_no_repeats)"
   ]
  },
  {
   "cell_type": "code",
   "execution_count": 220,
   "metadata": {},
   "outputs": [
    {
     "data": {
      "text/plain": [
       "array([[68, 32],\n",
       "       [30, 70]])"
      ]
     },
     "execution_count": 220,
     "metadata": {},
     "output_type": "execute_result"
    }
   ],
   "source": [
    "dt.fit(X=train_X_3, y=train_y_3)\n",
    "preds = dt.predict(X=test_X_3)\n",
    "# preds\n",
    "adam_y_test = preds[:100]\n",
    "brenda_y_test = preds[100:]\n",
    "actual_values = [0] * 100 + [1] * 100\n",
    "predicted_values = list(preds[:100]) + list(preds[100:])\n",
    "preds_ = dt.predict_proba(test_X_3)[:,1]\n",
    "false_positive_rate, true_positive_rate, threshold = roc_curve(actual_values, preds_)\n",
    "conf_matrix = confusion_matrix(actual_values, predicted_values)\n",
    "conf_matrix"
   ]
  },
  {
   "cell_type": "code",
   "execution_count": 221,
   "metadata": {},
   "outputs": [
    {
     "data": {
      "text/plain": [
       "0.69"
      ]
     },
     "execution_count": 221,
     "metadata": {},
     "output_type": "execute_result"
    }
   ],
   "source": [
    "accuracy(conf_matrix)"
   ]
  },
  {
   "cell_type": "code",
   "execution_count": 222,
   "metadata": {},
   "outputs": [
    {
     "data": {
      "text/plain": [
       "0.7"
      ]
     },
     "execution_count": 222,
     "metadata": {},
     "output_type": "execute_result"
    }
   ],
   "source": [
    "precision(conf_matrix)"
   ]
  },
  {
   "cell_type": "code",
   "execution_count": 223,
   "metadata": {},
   "outputs": [
    {
     "data": {
      "text/plain": [
       "0.6862745098039216"
      ]
     },
     "execution_count": 223,
     "metadata": {},
     "output_type": "execute_result"
    }
   ],
   "source": [
    "recall(conf_matrix)"
   ]
  },
  {
   "cell_type": "code",
   "execution_count": 224,
   "metadata": {},
   "outputs": [
    {
     "data": {
      "text/plain": [
       "0.6938775510204082"
      ]
     },
     "execution_count": 224,
     "metadata": {},
     "output_type": "execute_result"
    }
   ],
   "source": [
    "specificity(conf_matrix)"
   ]
  },
  {
   "cell_type": "code",
   "execution_count": 225,
   "metadata": {},
   "outputs": [
    {
     "data": {
      "text/plain": [
       "0.693069306930693"
      ]
     },
     "execution_count": 225,
     "metadata": {},
     "output_type": "execute_result"
    }
   ],
   "source": [
    "f1(conf_matrix)"
   ]
  },
  {
   "cell_type": "code",
   "execution_count": 226,
   "metadata": {
    "scrolled": true
   },
   "outputs": [
    {
     "name": "stdout",
     "output_type": "stream",
     "text": [
      "roc_auc_score:  0.70865\n"
     ]
    },
    {
     "data": {
      "image/png": "[encoded data removed]",
      "text/plain": [
       "<Figure size 432x288 with 1 Axes>"
      ]
     },
     "metadata": {
      "needs_background": "light"
     },
     "output_type": "display_data"
    }
   ],
   "source": [
    "print('roc_auc_score: ', roc_auc_score(actual_values, preds_))\n",
    "plot_roc('ROC Curve', false_positive_rate, true_positive_rate)"
   ]
  },
  {
   "cell_type": "code",
   "execution_count": 227,
   "metadata": {
    "scrolled": false
   },
   "outputs": [
    {
     "name": "stdout",
     "output_type": "stream",
     "text": [
      "pr_auc_score:  0.6596225920590605\n"
     ]
    },
    {
     "data": {
      "image/png": "[encoded data removed]",
      "text/plain": [
       "<Figure size 432x288 with 1 Axes>"
      ]
     },
     "metadata": {
      "needs_background": "light"
     },
     "output_type": "display_data"
    }
   ],
   "source": [
    "print('pr_auc_score: ', average_precision_score(actual_values, preds_))\n",
    "plot_pr_curve(actual_values, preds_)"
   ]
  },
  {
   "cell_type": "code",
   "execution_count": 228,
   "metadata": {
    "scrolled": false
   },
   "outputs": [],
   "source": [
    "# compare_predictions_Adam(preds, preds_, actual_values, adam_test_3, df_adam_no_repeats_no_same_up_sampled)"
   ]
  },
  {
   "cell_type": "code",
   "execution_count": 229,
   "metadata": {
    "scrolled": false
   },
   "outputs": [],
   "source": [
    "# compare_predictions_Brenda(preds, preds_, actual_values, brenda_test_3, df_brenda_no_repeats)"
   ]
  },
  {
   "cell_type": "code",
   "execution_count": 230,
   "metadata": {},
   "outputs": [
    {
     "data": {
      "text/plain": [
       "array([[74, 26],\n",
       "       [30, 70]])"
      ]
     },
     "execution_count": 230,
     "metadata": {},
     "output_type": "execute_result"
    }
   ],
   "source": [
    "dt.fit(X=train_X_4, y=train_y_4)\n",
    "preds = dt.predict(X=test_X_4)\n",
    "# preds\n",
    "adam_y_test = preds[:100]\n",
    "brenda_y_test = preds[100:]\n",
    "actual_values = [0] * 100 + [1] * 100\n",
    "predicted_values = list(preds[:100]) + list(preds[100:])\n",
    "preds_ = dt.predict_proba(test_X_4)[:,1]\n",
    "false_positive_rate, true_positive_rate, threshold = roc_curve(actual_values, preds_)\n",
    "conf_matrix = confusion_matrix(actual_values, predicted_values)\n",
    "conf_matrix"
   ]
  },
  {
   "cell_type": "code",
   "execution_count": 231,
   "metadata": {},
   "outputs": [
    {
     "data": {
      "text/plain": [
       "0.72"
      ]
     },
     "execution_count": 231,
     "metadata": {},
     "output_type": "execute_result"
    }
   ],
   "source": [
    "accuracy(conf_matrix)"
   ]
  },
  {
   "cell_type": "code",
   "execution_count": 232,
   "metadata": {},
   "outputs": [
    {
     "data": {
      "text/plain": [
       "0.7"
      ]
     },
     "execution_count": 232,
     "metadata": {},
     "output_type": "execute_result"
    }
   ],
   "source": [
    "precision(conf_matrix)"
   ]
  },
  {
   "cell_type": "code",
   "execution_count": 233,
   "metadata": {},
   "outputs": [
    {
     "data": {
      "text/plain": [
       "0.7291666666666666"
      ]
     },
     "execution_count": 233,
     "metadata": {},
     "output_type": "execute_result"
    }
   ],
   "source": [
    "recall(conf_matrix)"
   ]
  },
  {
   "cell_type": "code",
   "execution_count": 234,
   "metadata": {},
   "outputs": [
    {
     "data": {
      "text/plain": [
       "0.7115384615384616"
      ]
     },
     "execution_count": 234,
     "metadata": {},
     "output_type": "execute_result"
    }
   ],
   "source": [
    "specificity(conf_matrix)"
   ]
  },
  {
   "cell_type": "code",
   "execution_count": 235,
   "metadata": {},
   "outputs": [
    {
     "data": {
      "text/plain": [
       "0.7142857142857142"
      ]
     },
     "execution_count": 235,
     "metadata": {},
     "output_type": "execute_result"
    }
   ],
   "source": [
    "f1(conf_matrix)"
   ]
  },
  {
   "cell_type": "code",
   "execution_count": 236,
   "metadata": {
    "scrolled": true
   },
   "outputs": [
    {
     "name": "stdout",
     "output_type": "stream",
     "text": [
      "roc_auc_score:  0.7418999999999999\n"
     ]
    },
    {
     "data": {
      "image/png": "[encoded data removed]",
      "text/plain": [
       "<Figure size 432x288 with 1 Axes>"
      ]
     },
     "metadata": {
      "needs_background": "light"
     },
     "output_type": "display_data"
    }
   ],
   "source": [
    "print('roc_auc_score: ', roc_auc_score(actual_values, preds_))\n",
    "plot_roc('ROC Curve', false_positive_rate, true_positive_rate)"
   ]
  },
  {
   "cell_type": "code",
   "execution_count": 237,
   "metadata": {
    "scrolled": false
   },
   "outputs": [
    {
     "name": "stdout",
     "output_type": "stream",
     "text": [
      "pr_auc_score:  0.6785302989605451\n"
     ]
    },
    {
     "data": {
      "image/png": "[encoded data removed]",
      "text/plain": [
       "<Figure size 432x288 with 1 Axes>"
      ]
     },
     "metadata": {
      "needs_background": "light"
     },
     "output_type": "display_data"
    }
   ],
   "source": [
    "print('pr_auc_score: ', average_precision_score(actual_values, preds_))\n",
    "plot_pr_curve(actual_values, preds_)"
   ]
  },
  {
   "cell_type": "code",
   "execution_count": 238,
   "metadata": {
    "scrolled": false
   },
   "outputs": [],
   "source": [
    "# compare_predictions_Adam(preds, preds_, actual_values, adam_test_4, df_adam_no_repeats_no_same_up_sampled)"
   ]
  },
  {
   "cell_type": "code",
   "execution_count": 239,
   "metadata": {
    "scrolled": false
   },
   "outputs": [],
   "source": [
    "# compare_predictions_Brenda(preds, preds_, actual_values, brenda_test_4, df_brenda_no_repeats)"
   ]
  },
  {
   "cell_type": "code",
   "execution_count": 240,
   "metadata": {},
   "outputs": [
    {
     "data": {
      "text/plain": [
       "array([[81, 19],\n",
       "       [26, 74]])"
      ]
     },
     "execution_count": 240,
     "metadata": {},
     "output_type": "execute_result"
    }
   ],
   "source": [
    "dt.fit(X=train_X_5, y=train_y_5)\n",
    "preds = dt.predict(X=test_X_5)\n",
    "# preds\n",
    "adam_y_test = preds[:100]\n",
    "brenda_y_test = preds[100:]\n",
    "actual_values = [0] * 100 + [1] * 100\n",
    "predicted_values = list(preds[:100]) + list(preds[100:])\n",
    "preds_ = dt.predict_proba(test_X_5)[:,1]\n",
    "false_positive_rate, true_positive_rate, threshold = roc_curve(actual_values, preds_)\n",
    "conf_matrix = confusion_matrix(actual_values, predicted_values)\n",
    "conf_matrix"
   ]
  },
  {
   "cell_type": "code",
   "execution_count": 241,
   "metadata": {},
   "outputs": [
    {
     "data": {
      "text/plain": [
       "0.775"
      ]
     },
     "execution_count": 241,
     "metadata": {},
     "output_type": "execute_result"
    }
   ],
   "source": [
    "accuracy(conf_matrix)"
   ]
  },
  {
   "cell_type": "code",
   "execution_count": 242,
   "metadata": {},
   "outputs": [
    {
     "data": {
      "text/plain": [
       "0.74"
      ]
     },
     "execution_count": 242,
     "metadata": {},
     "output_type": "execute_result"
    }
   ],
   "source": [
    "precision(conf_matrix)"
   ]
  },
  {
   "cell_type": "code",
   "execution_count": 243,
   "metadata": {},
   "outputs": [
    {
     "data": {
      "text/plain": [
       "0.7956989247311828"
      ]
     },
     "execution_count": 243,
     "metadata": {},
     "output_type": "execute_result"
    }
   ],
   "source": [
    "recall(conf_matrix)"
   ]
  },
  {
   "cell_type": "code",
   "execution_count": 244,
   "metadata": {},
   "outputs": [
    {
     "data": {
      "text/plain": [
       "0.7570093457943925"
      ]
     },
     "execution_count": 244,
     "metadata": {},
     "output_type": "execute_result"
    }
   ],
   "source": [
    "specificity(conf_matrix)"
   ]
  },
  {
   "cell_type": "code",
   "execution_count": 245,
   "metadata": {},
   "outputs": [
    {
     "data": {
      "text/plain": [
       "0.7668393782383419"
      ]
     },
     "execution_count": 245,
     "metadata": {},
     "output_type": "execute_result"
    }
   ],
   "source": [
    "f1(conf_matrix)"
   ]
  },
  {
   "cell_type": "code",
   "execution_count": 246,
   "metadata": {
    "scrolled": true
   },
   "outputs": [
    {
     "name": "stdout",
     "output_type": "stream",
     "text": [
      "roc_auc_score:  0.79505\n"
     ]
    },
    {
     "data": {
      "image/png": "[encoded data removed]",
      "text/plain": [
       "<Figure size 432x288 with 1 Axes>"
      ]
     },
     "metadata": {
      "needs_background": "light"
     },
     "output_type": "display_data"
    }
   ],
   "source": [
    "print('roc_auc_score: ', roc_auc_score(actual_values, preds_))\n",
    "plot_roc('ROC Curve', false_positive_rate, true_positive_rate)"
   ]
  },
  {
   "cell_type": "code",
   "execution_count": 247,
   "metadata": {
    "scrolled": true
   },
   "outputs": [
    {
     "name": "stdout",
     "output_type": "stream",
     "text": [
      "pr_auc_score:  0.7328881873657261\n"
     ]
    },
    {
     "data": {
      "image/png": "[encoded data removed]",
      "text/plain": [
       "<Figure size 432x288 with 1 Axes>"
      ]
     },
     "metadata": {
      "needs_background": "light"
     },
     "output_type": "display_data"
    }
   ],
   "source": [
    "print('pr_auc_score: ', average_precision_score(actual_values, preds_))\n",
    "plot_pr_curve(actual_values, preds_)"
   ]
  },
  {
   "cell_type": "code",
   "execution_count": 248,
   "metadata": {
    "scrolled": false
   },
   "outputs": [],
   "source": [
    "# compare_predictions_Adam(preds, preds_, actual_values, adam_test_5, df_adam_no_repeats_no_same_up_sampled)"
   ]
  },
  {
   "cell_type": "code",
   "execution_count": 249,
   "metadata": {
    "scrolled": false
   },
   "outputs": [],
   "source": [
    "# compare_predictions_Brenda(preds, preds_, actual_values, brenda_test_5, df_brenda_no_repeats)"
   ]
  },
  {
   "cell_type": "markdown",
   "metadata": {},
   "source": [
    "## Random forest"
   ]
  },
  {
   "cell_type": "code",
   "execution_count": 250,
   "metadata": {},
   "outputs": [],
   "source": [
    "rf = RandomForestClassifier(random_state=42)"
   ]
  },
  {
   "cell_type": "code",
   "execution_count": 251,
   "metadata": {},
   "outputs": [
    {
     "name": "stderr",
     "output_type": "stream",
     "text": [
      "/anaconda3/lib/python3.6/site-packages/sklearn/model_selection/_split.py:2053: FutureWarning: You should specify a value for 'cv' instead of relying on the default value. The default value will change from 3 to 5 in version 0.22.\n",
      "  warnings.warn(CV_WARNING, FutureWarning)\n"
     ]
    },
    {
     "name": "stdout",
     "output_type": "stream",
     "text": [
      "Best Score: 0.8071253071253072\n",
      "Best Hyperparameters: {'criterion': 'gini', 'max_depth': 15, 'max_features': 'log2', 'n_estimators': 300}\n"
     ]
    }
   ],
   "source": [
    "# define search space\n",
    "space = dict()\n",
    "\n",
    "space['criterion'] = ['gini', 'entropy']\n",
    "space['n_estimators'] = [1,10,100,300]\n",
    "space['max_depth'] = [1,5,15,20,25,30]\n",
    "space['max_features'] = ['sqrt', 'log2']\n",
    "search = GridSearchCV(rf, space, scoring='accuracy')\n",
    "\n",
    "# execute search\n",
    "result = search.fit(X=train_X_1, y=train_y_1)\n",
    "# summarize result\n",
    "print('Best Score: %s' % result.best_score_)\n",
    "print('Best Hyperparameters: %s' % result.best_params_)"
   ]
  },
  {
   "cell_type": "code",
   "execution_count": 252,
   "metadata": {},
   "outputs": [],
   "source": [
    "rf = RandomForestClassifier(random_state=42,\n",
    "                            criterion='gini',\n",
    "                            max_depth=15,\n",
    "                            max_features='log2',\n",
    "                            n_estimators=300)"
   ]
  },
  {
   "cell_type": "code",
   "execution_count": 253,
   "metadata": {},
   "outputs": [
    {
     "data": {
      "text/plain": [
       "array([[84, 16],\n",
       "       [28, 72]])"
      ]
     },
     "execution_count": 253,
     "metadata": {},
     "output_type": "execute_result"
    }
   ],
   "source": [
    "rf.fit(X=train_X_1, y=train_y_1)\n",
    "preds = rf.predict(X=test_X_1)\n",
    "adam_y_test = preds[:100]\n",
    "brenda_y_test = preds[100:]\n",
    "actual_values = [0] * 100 + [1] * 100\n",
    "predicted_values = list(preds[:100]) + list(preds[100:])\n",
    "preds_ = rf.predict_proba(test_X_1)[:,1]\n",
    "false_positive_rate, true_positive_rate, threshold = roc_curve(actual_values, preds_)\n",
    "# in binary classification, \n",
    "# the count of true negatives is C_00,\n",
    "# false negatives is C_10,\n",
    "# true positives is  C_11, \n",
    "# and false positives is C_01.\n",
    "conf_matrix = confusion_matrix(actual_values, predicted_values)\n",
    "conf_matrix"
   ]
  },
  {
   "cell_type": "code",
   "execution_count": 254,
   "metadata": {},
   "outputs": [
    {
     "data": {
      "text/plain": [
       "0.78"
      ]
     },
     "execution_count": 254,
     "metadata": {},
     "output_type": "execute_result"
    }
   ],
   "source": [
    "accuracy(conf_matrix)"
   ]
  },
  {
   "cell_type": "code",
   "execution_count": 255,
   "metadata": {},
   "outputs": [
    {
     "data": {
      "text/plain": [
       "0.72"
      ]
     },
     "execution_count": 255,
     "metadata": {},
     "output_type": "execute_result"
    }
   ],
   "source": [
    "precision(conf_matrix)"
   ]
  },
  {
   "cell_type": "code",
   "execution_count": 256,
   "metadata": {},
   "outputs": [
    {
     "data": {
      "text/plain": [
       "0.8181818181818182"
      ]
     },
     "execution_count": 256,
     "metadata": {},
     "output_type": "execute_result"
    }
   ],
   "source": [
    "recall(conf_matrix)"
   ]
  },
  {
   "cell_type": "code",
   "execution_count": 257,
   "metadata": {},
   "outputs": [
    {
     "data": {
      "text/plain": [
       "0.75"
      ]
     },
     "execution_count": 257,
     "metadata": {},
     "output_type": "execute_result"
    }
   ],
   "source": [
    "specificity(conf_matrix)"
   ]
  },
  {
   "cell_type": "code",
   "execution_count": 258,
   "metadata": {},
   "outputs": [
    {
     "data": {
      "text/plain": [
       "0.7659574468085107"
      ]
     },
     "execution_count": 258,
     "metadata": {},
     "output_type": "execute_result"
    }
   ],
   "source": [
    "f1(conf_matrix)"
   ]
  },
  {
   "cell_type": "code",
   "execution_count": 259,
   "metadata": {
    "scrolled": true
   },
   "outputs": [
    {
     "name": "stdout",
     "output_type": "stream",
     "text": [
      "roc_auc_score:  0.8973\n"
     ]
    },
    {
     "data": {
      "image/png": "[encoded data removed]",
      "text/plain": [
       "<Figure size 432x288 with 1 Axes>"
      ]
     },
     "metadata": {
      "needs_background": "light"
     },
     "output_type": "display_data"
    }
   ],
   "source": [
    "print('roc_auc_score: ', roc_auc_score(actual_values, preds_))\n",
    "plot_roc('ROC Curve', false_positive_rate, true_positive_rate)"
   ]
  },
  {
   "cell_type": "code",
   "execution_count": 260,
   "metadata": {
    "scrolled": false
   },
   "outputs": [
    {
     "name": "stdout",
     "output_type": "stream",
     "text": [
      "pr_auc_score:  0.8930818356300332\n"
     ]
    },
    {
     "data": {
      "image/png": "[encoded data removed]",
      "text/plain": [
       "<Figure size 432x288 with 1 Axes>"
      ]
     },
     "metadata": {
      "needs_background": "light"
     },
     "output_type": "display_data"
    }
   ],
   "source": [
    "print('pr_auc_score: ', average_precision_score(actual_values, preds_))\n",
    "plot_pr_curve(actual_values, preds_)"
   ]
  },
  {
   "cell_type": "code",
   "execution_count": 261,
   "metadata": {
    "scrolled": false
   },
   "outputs": [],
   "source": [
    "# compare_predictions_Adam(preds, preds_, actual_values, adam_test_1, df_adam_no_repeats_no_same_up_sampled)"
   ]
  },
  {
   "cell_type": "code",
   "execution_count": 262,
   "metadata": {
    "scrolled": false
   },
   "outputs": [],
   "source": [
    "# compare_predictions_Brenda(preds, preds_, actual_values, brenda_test_1, df_brenda_no_repeats)"
   ]
  },
  {
   "cell_type": "code",
   "execution_count": 263,
   "metadata": {},
   "outputs": [
    {
     "data": {
      "text/plain": [
       "array([[79, 21],\n",
       "       [17, 83]])"
      ]
     },
     "execution_count": 263,
     "metadata": {},
     "output_type": "execute_result"
    }
   ],
   "source": [
    "rf.fit(X=train_X_2, y=train_y_2)\n",
    "preds = rf.predict(X=test_X_2)\n",
    "adam_y_test = preds[:100]\n",
    "brenda_y_test = preds[100:]\n",
    "actual_values = [0] * 100 + [1] * 100\n",
    "predicted_values = list(preds[:100]) + list(preds[100:])\n",
    "preds_ = rf.predict_proba(test_X_2)[:,1]\n",
    "false_positive_rate, true_positive_rate, threshold = roc_curve(actual_values, preds_)\n",
    "conf_matrix = confusion_matrix(actual_values, predicted_values)\n",
    "conf_matrix"
   ]
  },
  {
   "cell_type": "code",
   "execution_count": 264,
   "metadata": {},
   "outputs": [
    {
     "data": {
      "text/plain": [
       "0.81"
      ]
     },
     "execution_count": 264,
     "metadata": {},
     "output_type": "execute_result"
    }
   ],
   "source": [
    "accuracy(conf_matrix)"
   ]
  },
  {
   "cell_type": "code",
   "execution_count": 265,
   "metadata": {},
   "outputs": [
    {
     "data": {
      "text/plain": [
       "0.83"
      ]
     },
     "execution_count": 265,
     "metadata": {},
     "output_type": "execute_result"
    }
   ],
   "source": [
    "precision(conf_matrix)"
   ]
  },
  {
   "cell_type": "code",
   "execution_count": 266,
   "metadata": {},
   "outputs": [
    {
     "data": {
      "text/plain": [
       "0.7980769230769231"
      ]
     },
     "execution_count": 266,
     "metadata": {},
     "output_type": "execute_result"
    }
   ],
   "source": [
    "recall(conf_matrix)"
   ]
  },
  {
   "cell_type": "code",
   "execution_count": 267,
   "metadata": {},
   "outputs": [
    {
     "data": {
      "text/plain": [
       "0.8229166666666666"
      ]
     },
     "execution_count": 267,
     "metadata": {},
     "output_type": "execute_result"
    }
   ],
   "source": [
    "specificity(conf_matrix)"
   ]
  },
  {
   "cell_type": "code",
   "execution_count": 268,
   "metadata": {},
   "outputs": [
    {
     "data": {
      "text/plain": [
       "0.8137254901960785"
      ]
     },
     "execution_count": 268,
     "metadata": {},
     "output_type": "execute_result"
    }
   ],
   "source": [
    "f1(conf_matrix)"
   ]
  },
  {
   "cell_type": "code",
   "execution_count": 269,
   "metadata": {
    "scrolled": true
   },
   "outputs": [
    {
     "name": "stdout",
     "output_type": "stream",
     "text": [
      "roc_auc_score:  0.9085000000000001\n"
     ]
    },
    {
     "data": {
      "image/png": "[encoded data removed]",
      "text/plain": [
       "<Figure size 432x288 with 1 Axes>"
      ]
     },
     "metadata": {
      "needs_background": "light"
     },
     "output_type": "display_data"
    }
   ],
   "source": [
    "print('roc_auc_score: ', roc_auc_score(actual_values, preds_))\n",
    "plot_roc('ROC Curve', false_positive_rate, true_positive_rate)"
   ]
  },
  {
   "cell_type": "code",
   "execution_count": 270,
   "metadata": {
    "scrolled": false
   },
   "outputs": [
    {
     "name": "stdout",
     "output_type": "stream",
     "text": [
      "pr_auc_score:  0.9028634472790835\n"
     ]
    },
    {
     "data": {
      "image/png": "[encoded data removed]",
      "text/plain": [
       "<Figure size 432x288 with 1 Axes>"
      ]
     },
     "metadata": {
      "needs_background": "light"
     },
     "output_type": "display_data"
    }
   ],
   "source": [
    "print('pr_auc_score: ', average_precision_score(actual_values, preds_))\n",
    "plot_pr_curve(actual_values, preds_)"
   ]
  },
  {
   "cell_type": "code",
   "execution_count": 271,
   "metadata": {
    "scrolled": false
   },
   "outputs": [],
   "source": [
    "# compare_predictions_Adam(preds, preds_, actual_values, adam_test_2, df_adam_no_repeats_no_same_up_sampled)"
   ]
  },
  {
   "cell_type": "code",
   "execution_count": 272,
   "metadata": {
    "scrolled": false
   },
   "outputs": [],
   "source": [
    "# compare_predictions_Brenda(preds, preds_, actual_values, brenda_test_2, df_brenda_no_repeats)"
   ]
  },
  {
   "cell_type": "code",
   "execution_count": 273,
   "metadata": {},
   "outputs": [
    {
     "data": {
      "text/plain": [
       "array([[75, 25],\n",
       "       [15, 85]])"
      ]
     },
     "execution_count": 273,
     "metadata": {},
     "output_type": "execute_result"
    }
   ],
   "source": [
    "rf.fit(X=train_X_3, y=train_y_3)\n",
    "preds = rf.predict(X=test_X_3)\n",
    "adam_y_test = preds[:100]\n",
    "brenda_y_test = preds[100:]\n",
    "actual_values = [0] * 100 + [1] * 100\n",
    "predicted_values = list(preds[:100]) + list(preds[100:])\n",
    "preds_ = rf.predict_proba(test_X_3)[:,1]\n",
    "false_positive_rate, true_positive_rate, threshold = roc_curve(actual_values, preds_)\n",
    "conf_matrix = confusion_matrix(actual_values, predicted_values)\n",
    "conf_matrix"
   ]
  },
  {
   "cell_type": "code",
   "execution_count": 274,
   "metadata": {},
   "outputs": [
    {
     "data": {
      "text/plain": [
       "0.8"
      ]
     },
     "execution_count": 274,
     "metadata": {},
     "output_type": "execute_result"
    }
   ],
   "source": [
    "accuracy(conf_matrix)"
   ]
  },
  {
   "cell_type": "code",
   "execution_count": 275,
   "metadata": {},
   "outputs": [
    {
     "data": {
      "text/plain": [
       "0.85"
      ]
     },
     "execution_count": 275,
     "metadata": {},
     "output_type": "execute_result"
    }
   ],
   "source": [
    "precision(conf_matrix)"
   ]
  },
  {
   "cell_type": "code",
   "execution_count": 276,
   "metadata": {},
   "outputs": [
    {
     "data": {
      "text/plain": [
       "0.7727272727272727"
      ]
     },
     "execution_count": 276,
     "metadata": {},
     "output_type": "execute_result"
    }
   ],
   "source": [
    "recall(conf_matrix)"
   ]
  },
  {
   "cell_type": "code",
   "execution_count": 277,
   "metadata": {},
   "outputs": [
    {
     "data": {
      "text/plain": [
       "0.8333333333333334"
      ]
     },
     "execution_count": 277,
     "metadata": {},
     "output_type": "execute_result"
    }
   ],
   "source": [
    "specificity(conf_matrix)"
   ]
  },
  {
   "cell_type": "code",
   "execution_count": 278,
   "metadata": {},
   "outputs": [
    {
     "data": {
      "text/plain": [
       "0.8095238095238095"
      ]
     },
     "execution_count": 278,
     "metadata": {},
     "output_type": "execute_result"
    }
   ],
   "source": [
    "f1(conf_matrix)"
   ]
  },
  {
   "cell_type": "code",
   "execution_count": 279,
   "metadata": {},
   "outputs": [
    {
     "name": "stdout",
     "output_type": "stream",
     "text": [
      "roc_auc_score:  0.8834\n"
     ]
    },
    {
     "data": {
      "image/png": "[encoded data removed]",
      "text/plain": [
       "<Figure size 432x288 with 1 Axes>"
      ]
     },
     "metadata": {
      "needs_background": "light"
     },
     "output_type": "display_data"
    }
   ],
   "source": [
    "print('roc_auc_score: ', roc_auc_score(actual_values, preds_))\n",
    "plot_roc('ROC Curve', false_positive_rate, true_positive_rate)"
   ]
  },
  {
   "cell_type": "code",
   "execution_count": 280,
   "metadata": {
    "scrolled": false
   },
   "outputs": [
    {
     "name": "stdout",
     "output_type": "stream",
     "text": [
      "pr_auc_score:  0.8789219092553211\n"
     ]
    },
    {
     "data": {
      "image/png": "[encoded data removed]",
      "text/plain": [
       "<Figure size 432x288 with 1 Axes>"
      ]
     },
     "metadata": {
      "needs_background": "light"
     },
     "output_type": "display_data"
    }
   ],
   "source": [
    "print('pr_auc_score: ', average_precision_score(actual_values, preds_))\n",
    "plot_pr_curve(actual_values, preds_)"
   ]
  },
  {
   "cell_type": "code",
   "execution_count": 281,
   "metadata": {
    "scrolled": false
   },
   "outputs": [],
   "source": [
    "# compare_predictions_Adam(preds, preds_, actual_values, adam_test_3, df_adam_no_repeats_no_same_up_sampled)"
   ]
  },
  {
   "cell_type": "code",
   "execution_count": 282,
   "metadata": {
    "scrolled": false
   },
   "outputs": [],
   "source": [
    "# compare_predictions_Brenda(preds, preds_, actual_values, brenda_test_3, df_brenda_no_repeats)"
   ]
  },
  {
   "cell_type": "code",
   "execution_count": 283,
   "metadata": {},
   "outputs": [
    {
     "data": {
      "text/plain": [
       "array([[76, 24],\n",
       "       [12, 88]])"
      ]
     },
     "execution_count": 283,
     "metadata": {},
     "output_type": "execute_result"
    }
   ],
   "source": [
    "rf.fit(X=train_X_4, y=train_y_4)\n",
    "preds = rf.predict(X=test_X_4)\n",
    "adam_y_test = preds[:100]\n",
    "brenda_y_test = preds[100:]\n",
    "actual_values = [0] * 100 + [1] * 100\n",
    "predicted_values = list(preds[:100]) + list(preds[100:])\n",
    "preds_ = rf.predict_proba(test_X_4)[:,1]\n",
    "false_positive_rate, true_positive_rate, threshold = roc_curve(actual_values, preds_)\n",
    "conf_matrix = confusion_matrix(actual_values, predicted_values)\n",
    "conf_matrix"
   ]
  },
  {
   "cell_type": "code",
   "execution_count": 284,
   "metadata": {},
   "outputs": [
    {
     "data": {
      "text/plain": [
       "0.82"
      ]
     },
     "execution_count": 284,
     "metadata": {},
     "output_type": "execute_result"
    }
   ],
   "source": [
    "accuracy(conf_matrix)"
   ]
  },
  {
   "cell_type": "code",
   "execution_count": 285,
   "metadata": {},
   "outputs": [
    {
     "data": {
      "text/plain": [
       "0.88"
      ]
     },
     "execution_count": 285,
     "metadata": {},
     "output_type": "execute_result"
    }
   ],
   "source": [
    "precision(conf_matrix)"
   ]
  },
  {
   "cell_type": "code",
   "execution_count": 286,
   "metadata": {},
   "outputs": [
    {
     "data": {
      "text/plain": [
       "0.7857142857142857"
      ]
     },
     "execution_count": 286,
     "metadata": {},
     "output_type": "execute_result"
    }
   ],
   "source": [
    "recall(conf_matrix)"
   ]
  },
  {
   "cell_type": "code",
   "execution_count": 287,
   "metadata": {},
   "outputs": [
    {
     "data": {
      "text/plain": [
       "0.8636363636363636"
      ]
     },
     "execution_count": 287,
     "metadata": {},
     "output_type": "execute_result"
    }
   ],
   "source": [
    "specificity(conf_matrix)"
   ]
  },
  {
   "cell_type": "code",
   "execution_count": 288,
   "metadata": {},
   "outputs": [
    {
     "data": {
      "text/plain": [
       "0.830188679245283"
      ]
     },
     "execution_count": 288,
     "metadata": {},
     "output_type": "execute_result"
    }
   ],
   "source": [
    "f1(conf_matrix)"
   ]
  },
  {
   "cell_type": "code",
   "execution_count": 289,
   "metadata": {},
   "outputs": [
    {
     "name": "stdout",
     "output_type": "stream",
     "text": [
      "roc_auc_score:  0.8928\n"
     ]
    },
    {
     "data": {
      "image/png": "[encoded data removed]",
      "text/plain": [
       "<Figure size 432x288 with 1 Axes>"
      ]
     },
     "metadata": {
      "needs_background": "light"
     },
     "output_type": "display_data"
    }
   ],
   "source": [
    "print('roc_auc_score: ', roc_auc_score(actual_values, preds_))\n",
    "plot_roc('ROC Curve', false_positive_rate, true_positive_rate)"
   ]
  },
  {
   "cell_type": "code",
   "execution_count": 290,
   "metadata": {
    "scrolled": false
   },
   "outputs": [
    {
     "name": "stdout",
     "output_type": "stream",
     "text": [
      "pr_auc_score:  0.8844315972532106\n"
     ]
    },
    {
     "data": {
      "image/png": "[encoded data removed]",
      "text/plain": [
       "<Figure size 432x288 with 1 Axes>"
      ]
     },
     "metadata": {
      "needs_background": "light"
     },
     "output_type": "display_data"
    }
   ],
   "source": [
    "print('pr_auc_score: ', average_precision_score(actual_values, preds_))\n",
    "plot_pr_curve(actual_values, preds_)"
   ]
  },
  {
   "cell_type": "code",
   "execution_count": 291,
   "metadata": {
    "scrolled": false
   },
   "outputs": [],
   "source": [
    "# compare_predictions_Adam(preds, preds_, actual_values, adam_test_4, df_adam_no_repeats_no_same_up_sampled)"
   ]
  },
  {
   "cell_type": "code",
   "execution_count": 292,
   "metadata": {
    "scrolled": false
   },
   "outputs": [],
   "source": [
    "# compare_predictions_Brenda(preds, preds_, actual_values, brenda_test_4, df_brenda_no_repeats)"
   ]
  },
  {
   "cell_type": "code",
   "execution_count": 293,
   "metadata": {},
   "outputs": [
    {
     "data": {
      "text/plain": [
       "array([[74, 26],\n",
       "       [14, 86]])"
      ]
     },
     "execution_count": 293,
     "metadata": {},
     "output_type": "execute_result"
    }
   ],
   "source": [
    "rf.fit(X=train_X_5, y=train_y_5)\n",
    "preds = rf.predict(X=test_X_5)\n",
    "adam_y_test = preds[:100]\n",
    "brenda_y_test = preds[100:]\n",
    "actual_values = [0] * 100 + [1] * 100\n",
    "predicted_values = list(preds[:100]) + list(preds[100:])\n",
    "preds_ = rf.predict_proba(test_X_5)[:,1]\n",
    "false_positive_rate, true_positive_rate, threshold = roc_curve(actual_values, preds_)\n",
    "conf_matrix = confusion_matrix(actual_values, predicted_values)\n",
    "conf_matrix"
   ]
  },
  {
   "cell_type": "code",
   "execution_count": 294,
   "metadata": {},
   "outputs": [
    {
     "data": {
      "text/plain": [
       "0.8"
      ]
     },
     "execution_count": 294,
     "metadata": {},
     "output_type": "execute_result"
    }
   ],
   "source": [
    "accuracy(conf_matrix)"
   ]
  },
  {
   "cell_type": "code",
   "execution_count": 295,
   "metadata": {},
   "outputs": [
    {
     "data": {
      "text/plain": [
       "0.86"
      ]
     },
     "execution_count": 295,
     "metadata": {},
     "output_type": "execute_result"
    }
   ],
   "source": [
    "precision(conf_matrix)"
   ]
  },
  {
   "cell_type": "code",
   "execution_count": 296,
   "metadata": {},
   "outputs": [
    {
     "data": {
      "text/plain": [
       "0.7678571428571429"
      ]
     },
     "execution_count": 296,
     "metadata": {},
     "output_type": "execute_result"
    }
   ],
   "source": [
    "recall(conf_matrix)"
   ]
  },
  {
   "cell_type": "code",
   "execution_count": 297,
   "metadata": {},
   "outputs": [
    {
     "data": {
      "text/plain": [
       "0.8409090909090909"
      ]
     },
     "execution_count": 297,
     "metadata": {},
     "output_type": "execute_result"
    }
   ],
   "source": [
    "specificity(conf_matrix)"
   ]
  },
  {
   "cell_type": "code",
   "execution_count": 298,
   "metadata": {},
   "outputs": [
    {
     "data": {
      "text/plain": [
       "0.8113207547169812"
      ]
     },
     "execution_count": 298,
     "metadata": {},
     "output_type": "execute_result"
    }
   ],
   "source": [
    "f1(conf_matrix)"
   ]
  },
  {
   "cell_type": "code",
   "execution_count": 299,
   "metadata": {},
   "outputs": [
    {
     "name": "stdout",
     "output_type": "stream",
     "text": [
      "roc_auc_score:  0.9037499999999999\n"
     ]
    },
    {
     "data": {
      "image/png": "[encoded data removed]",
      "text/plain": [
       "<Figure size 432x288 with 1 Axes>"
      ]
     },
     "metadata": {
      "needs_background": "light"
     },
     "output_type": "display_data"
    }
   ],
   "source": [
    "print('roc_auc_score: ', roc_auc_score(actual_values, preds_))\n",
    "plot_roc('ROC Curve', false_positive_rate, true_positive_rate, save='../images/receiver_operating_characteristic.png')"
   ]
  },
  {
   "cell_type": "code",
   "execution_count": 300,
   "metadata": {
    "scrolled": true
   },
   "outputs": [
    {
     "name": "stdout",
     "output_type": "stream",
     "text": [
      "pr_auc_score:  0.9096815365897483\n"
     ]
    },
    {
     "data": {
      "image/png": "[encoded data removed]",
      "text/plain": [
       "<Figure size 432x288 with 1 Axes>"
      ]
     },
     "metadata": {
      "needs_background": "light"
     },
     "output_type": "display_data"
    }
   ],
   "source": [
    "print('pr_auc_score: ', average_precision_score(actual_values, preds_))\n",
    "plot_pr_curve(actual_values, preds_, save='../images/precision_recall.png')"
   ]
  },
  {
   "cell_type": "markdown",
   "metadata": {},
   "source": [
    "#### Compare predictions including song information"
   ]
  },
  {
   "cell_type": "markdown",
   "metadata": {},
   "source": [
    "- A correct prediction for Adam is 0, for Brenda is 1\n",
    "- Songs are ordered in prediction probability, in other words, how confident the model was that the prediction was 1"
   ]
  },
  {
   "cell_type": "code",
   "execution_count": 301,
   "metadata": {
    "scrolled": false
   },
   "outputs": [],
   "source": [
    "Adam_predictions = compare_predictions_Adam(preds, preds_, actual_values, adam_test_5, df_adam_no_repeats_no_same_up_sampled)\n",
    "Adam_predictions = Adam_predictions[['prediction', 'prediction_probability', 'name', 'artist', 'album']]"
   ]
  },
  {
   "cell_type": "code",
   "execution_count": 302,
   "metadata": {
    "scrolled": false
   },
   "outputs": [],
   "source": [
    "Brenda_predictions = compare_predictions_Brenda(preds, preds_, actual_values, brenda_test_5, df_brenda_no_repeats)\n",
    "Brenda_predictions = Brenda_predictions[['prediction', 'prediction_probability', 'name', 'artist', 'album']]"
   ]
  },
  {
   "cell_type": "code",
   "execution_count": 303,
   "metadata": {
    "scrolled": false
   },
   "outputs": [
    {
     "data": {
      "text/html": [
       "<div>\n",
       "<style scoped>\n",
       "    .dataframe tbody tr th:only-of-type {\n",
       "        vertical-align: middle;\n",
       "    }\n",
       "\n",
       "    .dataframe tbody tr th {\n",
       "        vertical-align: top;\n",
       "    }\n",
       "\n",
       "    .dataframe thead th {\n",
       "        text-align: right;\n",
       "    }\n",
       "</style>\n",
       "<table border=\"1\" class=\"dataframe\">\n",
       "  <thead>\n",
       "    <tr style=\"text-align: right;\">\n",
       "      <th></th>\n",
       "      <th>prediction</th>\n",
       "      <th>prediction_probability</th>\n",
       "      <th>name</th>\n",
       "      <th>artist</th>\n",
       "      <th>album</th>\n",
       "    </tr>\n",
       "  </thead>\n",
       "  <tbody>\n",
       "    <tr>\n",
       "      <th>0</th>\n",
       "      <td>1</td>\n",
       "      <td>0.797778</td>\n",
       "      <td>Alive (Nightmare)</td>\n",
       "      <td>Kid Cudi</td>\n",
       "      <td>Man On The Moon: The End Of Day</td>\n",
       "    </tr>\n",
       "    <tr>\n",
       "      <th>1</th>\n",
       "      <td>1</td>\n",
       "      <td>0.756458</td>\n",
       "      <td>Don't Forget to Dance</td>\n",
       "      <td>The Kinks</td>\n",
       "      <td>State of Confusion</td>\n",
       "    </tr>\n",
       "    <tr>\n",
       "      <th>2</th>\n",
       "      <td>1</td>\n",
       "      <td>0.677500</td>\n",
       "      <td>Breathe Deeper</td>\n",
       "      <td>Tame Impala</td>\n",
       "      <td>The Slow Rush</td>\n",
       "    </tr>\n",
       "    <tr>\n",
       "      <th>3</th>\n",
       "      <td>1</td>\n",
       "      <td>0.672620</td>\n",
       "      <td>Sick and Tired (ft. Machine Gun Kelly and Trav...</td>\n",
       "      <td>iann dior</td>\n",
       "      <td>I'm Gone</td>\n",
       "    </tr>\n",
       "    <tr>\n",
       "      <th>4</th>\n",
       "      <td>1</td>\n",
       "      <td>0.659630</td>\n",
       "      <td>Internet Killed The Rockstar</td>\n",
       "      <td>MOD SUN</td>\n",
       "      <td>Internet Killed The Rockstar</td>\n",
       "    </tr>\n",
       "  </tbody>\n",
       "</table>\n",
       "</div>"
      ],
      "text/plain": [
       "   prediction  prediction_probability  \\\n",
       "0           1                0.797778   \n",
       "1           1                0.756458   \n",
       "2           1                0.677500   \n",
       "3           1                0.672620   \n",
       "4           1                0.659630   \n",
       "\n",
       "                                                name       artist  \\\n",
       "0                                  Alive (Nightmare)     Kid Cudi   \n",
       "1                              Don't Forget to Dance    The Kinks   \n",
       "2                                     Breathe Deeper  Tame Impala   \n",
       "3  Sick and Tired (ft. Machine Gun Kelly and Trav...    iann dior   \n",
       "4                       Internet Killed The Rockstar      MOD SUN   \n",
       "\n",
       "                             album  \n",
       "0  Man On The Moon: The End Of Day  \n",
       "1               State of Confusion  \n",
       "2                    The Slow Rush  \n",
       "3                         I'm Gone  \n",
       "4     Internet Killed The Rockstar  "
      ]
     },
     "execution_count": 303,
     "metadata": {},
     "output_type": "execute_result"
    }
   ],
   "source": [
    "# model incorrect\n",
    "Adam_predictions.head()"
   ]
  },
  {
   "cell_type": "code",
   "execution_count": 304,
   "metadata": {},
   "outputs": [
    {
     "data": {
      "text/html": [
       "<div>\n",
       "<style scoped>\n",
       "    .dataframe tbody tr th:only-of-type {\n",
       "        vertical-align: middle;\n",
       "    }\n",
       "\n",
       "    .dataframe tbody tr th {\n",
       "        vertical-align: top;\n",
       "    }\n",
       "\n",
       "    .dataframe thead th {\n",
       "        text-align: right;\n",
       "    }\n",
       "</style>\n",
       "<table border=\"1\" class=\"dataframe\">\n",
       "  <thead>\n",
       "    <tr style=\"text-align: right;\">\n",
       "      <th></th>\n",
       "      <th>prediction</th>\n",
       "      <th>prediction_probability</th>\n",
       "      <th>name</th>\n",
       "      <th>artist</th>\n",
       "      <th>album</th>\n",
       "    </tr>\n",
       "  </thead>\n",
       "  <tbody>\n",
       "    <tr>\n",
       "      <th>95</th>\n",
       "      <td>0</td>\n",
       "      <td>0.026667</td>\n",
       "      <td>All I Want</td>\n",
       "      <td>A Day To Remember</td>\n",
       "      <td>What Separates Me From You</td>\n",
       "    </tr>\n",
       "    <tr>\n",
       "      <th>96</th>\n",
       "      <td>0</td>\n",
       "      <td>0.021111</td>\n",
       "      <td>Up All Night</td>\n",
       "      <td>Hinder</td>\n",
       "      <td>Take It To The Limit</td>\n",
       "    </tr>\n",
       "    <tr>\n",
       "      <th>97</th>\n",
       "      <td>0</td>\n",
       "      <td>0.016667</td>\n",
       "      <td>Mindreader</td>\n",
       "      <td>A Day To Remember</td>\n",
       "      <td>Mindreader</td>\n",
       "    </tr>\n",
       "    <tr>\n",
       "      <th>98</th>\n",
       "      <td>0</td>\n",
       "      <td>0.016667</td>\n",
       "      <td>Mindreader</td>\n",
       "      <td>A Day To Remember</td>\n",
       "      <td>Mindreader</td>\n",
       "    </tr>\n",
       "    <tr>\n",
       "      <th>99</th>\n",
       "      <td>0</td>\n",
       "      <td>0.005000</td>\n",
       "      <td>Heavy Gloom</td>\n",
       "      <td>The Story So Far</td>\n",
       "      <td>The Story So Far</td>\n",
       "    </tr>\n",
       "  </tbody>\n",
       "</table>\n",
       "</div>"
      ],
      "text/plain": [
       "    prediction  prediction_probability          name             artist  \\\n",
       "95           0                0.026667    All I Want  A Day To Remember   \n",
       "96           0                0.021111  Up All Night             Hinder   \n",
       "97           0                0.016667    Mindreader  A Day To Remember   \n",
       "98           0                0.016667    Mindreader  A Day To Remember   \n",
       "99           0                0.005000   Heavy Gloom   The Story So Far   \n",
       "\n",
       "                         album  \n",
       "95  What Separates Me From You  \n",
       "96        Take It To The Limit  \n",
       "97                  Mindreader  \n",
       "98                  Mindreader  \n",
       "99            The Story So Far  "
      ]
     },
     "execution_count": 304,
     "metadata": {},
     "output_type": "execute_result"
    }
   ],
   "source": [
    "# model correct\n",
    "Adam_predictions.tail()"
   ]
  },
  {
   "cell_type": "code",
   "execution_count": 305,
   "metadata": {},
   "outputs": [
    {
     "data": {
      "text/html": [
       "<div>\n",
       "<style scoped>\n",
       "    .dataframe tbody tr th:only-of-type {\n",
       "        vertical-align: middle;\n",
       "    }\n",
       "\n",
       "    .dataframe tbody tr th {\n",
       "        vertical-align: top;\n",
       "    }\n",
       "\n",
       "    .dataframe thead th {\n",
       "        text-align: right;\n",
       "    }\n",
       "</style>\n",
       "<table border=\"1\" class=\"dataframe\">\n",
       "  <thead>\n",
       "    <tr style=\"text-align: right;\">\n",
       "      <th></th>\n",
       "      <th>prediction</th>\n",
       "      <th>prediction_probability</th>\n",
       "      <th>name</th>\n",
       "      <th>artist</th>\n",
       "      <th>album</th>\n",
       "    </tr>\n",
       "  </thead>\n",
       "  <tbody>\n",
       "    <tr>\n",
       "      <th>0</th>\n",
       "      <td>0</td>\n",
       "      <td>0.158333</td>\n",
       "      <td>Heart Attack</td>\n",
       "      <td>Wavves</td>\n",
       "      <td>V</td>\n",
       "    </tr>\n",
       "    <tr>\n",
       "      <th>1</th>\n",
       "      <td>0</td>\n",
       "      <td>0.206852</td>\n",
       "      <td>Good News</td>\n",
       "      <td>Mac Miller</td>\n",
       "      <td>Circles</td>\n",
       "    </tr>\n",
       "    <tr>\n",
       "      <th>2</th>\n",
       "      <td>0</td>\n",
       "      <td>0.301739</td>\n",
       "      <td>Photograph</td>\n",
       "      <td>Weezer</td>\n",
       "      <td>Weezer (Green Album)</td>\n",
       "    </tr>\n",
       "    <tr>\n",
       "      <th>3</th>\n",
       "      <td>0</td>\n",
       "      <td>0.311204</td>\n",
       "      <td>Taxi’s Here</td>\n",
       "      <td>Tame Impala</td>\n",
       "      <td>Currents B-Sides &amp; Remixes</td>\n",
       "    </tr>\n",
       "    <tr>\n",
       "      <th>4</th>\n",
       "      <td>0</td>\n",
       "      <td>0.350000</td>\n",
       "      <td>Hypnotize</td>\n",
       "      <td>The White Stripes</td>\n",
       "      <td>Elephant</td>\n",
       "    </tr>\n",
       "  </tbody>\n",
       "</table>\n",
       "</div>"
      ],
      "text/plain": [
       "   prediction  prediction_probability          name             artist  \\\n",
       "0           0                0.158333  Heart Attack             Wavves   \n",
       "1           0                0.206852     Good News         Mac Miller   \n",
       "2           0                0.301739    Photograph             Weezer   \n",
       "3           0                0.311204   Taxi’s Here        Tame Impala   \n",
       "4           0                0.350000     Hypnotize  The White Stripes   \n",
       "\n",
       "                        album  \n",
       "0                           V  \n",
       "1                     Circles  \n",
       "2        Weezer (Green Album)  \n",
       "3  Currents B-Sides & Remixes  \n",
       "4                    Elephant  "
      ]
     },
     "execution_count": 305,
     "metadata": {},
     "output_type": "execute_result"
    }
   ],
   "source": [
    "# model incorrect\n",
    "Brenda_predictions.head()"
   ]
  },
  {
   "cell_type": "code",
   "execution_count": 306,
   "metadata": {
    "scrolled": true
   },
   "outputs": [
    {
     "data": {
      "text/html": [
       "<div>\n",
       "<style scoped>\n",
       "    .dataframe tbody tr th:only-of-type {\n",
       "        vertical-align: middle;\n",
       "    }\n",
       "\n",
       "    .dataframe tbody tr th {\n",
       "        vertical-align: top;\n",
       "    }\n",
       "\n",
       "    .dataframe thead th {\n",
       "        text-align: right;\n",
       "    }\n",
       "</style>\n",
       "<table border=\"1\" class=\"dataframe\">\n",
       "  <thead>\n",
       "    <tr style=\"text-align: right;\">\n",
       "      <th></th>\n",
       "      <th>prediction</th>\n",
       "      <th>prediction_probability</th>\n",
       "      <th>name</th>\n",
       "      <th>artist</th>\n",
       "      <th>album</th>\n",
       "    </tr>\n",
       "  </thead>\n",
       "  <tbody>\n",
       "    <tr>\n",
       "      <th>95</th>\n",
       "      <td>1</td>\n",
       "      <td>0.930000</td>\n",
       "      <td>COPYCAT - Sofi Tukker Remix</td>\n",
       "      <td>Billie Eilish</td>\n",
       "      <td>COPYCAT (Sofi Tukker Remix)</td>\n",
       "    </tr>\n",
       "    <tr>\n",
       "      <th>96</th>\n",
       "      <td>1</td>\n",
       "      <td>0.931667</td>\n",
       "      <td>Something About Us</td>\n",
       "      <td>Daft Punk</td>\n",
       "      <td>Discovery</td>\n",
       "    </tr>\n",
       "    <tr>\n",
       "      <th>97</th>\n",
       "      <td>1</td>\n",
       "      <td>0.940000</td>\n",
       "      <td>Cellophane</td>\n",
       "      <td>King Gizzard &amp; The Lizard Wizard</td>\n",
       "      <td>I'm In Your Mind Fuzz</td>\n",
       "    </tr>\n",
       "    <tr>\n",
       "      <th>98</th>\n",
       "      <td>1</td>\n",
       "      <td>0.950000</td>\n",
       "      <td>This Song Is Not About A Girl</td>\n",
       "      <td>Flume</td>\n",
       "      <td>Lockjaw</td>\n",
       "    </tr>\n",
       "    <tr>\n",
       "      <th>99</th>\n",
       "      <td>1</td>\n",
       "      <td>0.960000</td>\n",
       "      <td>Close Your Eyes (And Count To Fuck)</td>\n",
       "      <td>Run The Jewels</td>\n",
       "      <td>Run The Jewels 2</td>\n",
       "    </tr>\n",
       "  </tbody>\n",
       "</table>\n",
       "</div>"
      ],
      "text/plain": [
       "    prediction  prediction_probability                                 name  \\\n",
       "95           1                0.930000          COPYCAT - Sofi Tukker Remix   \n",
       "96           1                0.931667                   Something About Us   \n",
       "97           1                0.940000                           Cellophane   \n",
       "98           1                0.950000        This Song Is Not About A Girl   \n",
       "99           1                0.960000  Close Your Eyes (And Count To Fuck)   \n",
       "\n",
       "                              artist                        album  \n",
       "95                     Billie Eilish  COPYCAT (Sofi Tukker Remix)  \n",
       "96                         Daft Punk                    Discovery  \n",
       "97  King Gizzard & The Lizard Wizard        I'm In Your Mind Fuzz  \n",
       "98                             Flume                      Lockjaw  \n",
       "99                    Run The Jewels             Run The Jewels 2  "
      ]
     },
     "execution_count": 306,
     "metadata": {},
     "output_type": "execute_result"
    }
   ],
   "source": [
    "# model correct\n",
    "Brenda_predictions.tail()"
   ]
  },
  {
   "cell_type": "code",
   "execution_count": null,
   "metadata": {},
   "outputs": [],
   "source": []
  }
 ],
 "metadata": {
  "kernelspec": {
   "display_name": "Python 3",
   "language": "python",
   "name": "python3"
  },
  "language_info": {
   "codemirror_mode": {
    "name": "ipython",
    "version": 3
   },
   "file_extension": ".py",
   "mimetype": "text/x-python",
   "name": "python",
   "nbconvert_exporter": "python",
   "pygments_lexer": "ipython3",
   "version": "3.6.8"
  }
 },
 "nbformat": 4,
 "nbformat_minor": 2
}
